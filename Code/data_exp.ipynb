{
 "cells": [
  {
   "cell_type": "code",
   "execution_count": 1,
   "id": "c0c84135-f339-4cc3-9f55-f82fa09c9027",
   "metadata": {
    "tags": []
   },
   "outputs": [],
   "source": [
    "!pip install awswrangler --quiet\n",
    "import pandas as pd\n",
    "import numpy as np\n",
    "import boto3\n",
    "import awswrangler as wr\n",
    "import matplotlib.pyplot as plt"
   ]
  },
  {
   "cell_type": "code",
   "execution_count": 4,
   "id": "950784ab-1bae-427a-827c-60d583559cb5",
   "metadata": {
    "tags": []
   },
   "outputs": [],
   "source": [
    "initial_query = 'SELECT * FROM \"capstone_v3\".\"v3_telemetry\" WHERE rand() <= 0.25 ORDER BY timestamp;'\n",
    "samp = wr.athena.read_sql_query(\n",
    "    sql=initial_query,\n",
    "    database='capstone_v3',\n",
    "    ctas_approach=True)"
   ]
  },
  {
   "cell_type": "code",
   "execution_count": 5,
   "id": "337595f0-4dc1-48d1-b4f8-a0ce9d82d21d",
   "metadata": {
    "tags": []
   },
   "outputs": [
    {
     "data": {
      "text/html": [
       "<div>\n",
       "<style scoped>\n",
       "    .dataframe tbody tr th:only-of-type {\n",
       "        vertical-align: middle;\n",
       "    }\n",
       "\n",
       "    .dataframe tbody tr th {\n",
       "        vertical-align: top;\n",
       "    }\n",
       "\n",
       "    .dataframe thead th {\n",
       "        text-align: right;\n",
       "    }\n",
       "</style>\n",
       "<table border=\"1\" class=\"dataframe\">\n",
       "  <thead>\n",
       "    <tr style=\"text-align: right;\">\n",
       "      <th></th>\n",
       "      <th>timestamp</th>\n",
       "      <th>speed_desired</th>\n",
       "      <th>ambient_temperature</th>\n",
       "      <th>ambient_pressure</th>\n",
       "      <th>speed</th>\n",
       "      <th>temperature</th>\n",
       "      <th>pressure</th>\n",
       "      <th>machineid</th>\n",
       "    </tr>\n",
       "  </thead>\n",
       "  <tbody>\n",
       "    <tr>\n",
       "      <th>0</th>\n",
       "      <td>2021-11-26 09:22:13</td>\n",
       "      <td>1000</td>\n",
       "      <td>19.93</td>\n",
       "      <td>100.93</td>\n",
       "      <td>1137.79</td>\n",
       "      <td>136.64</td>\n",
       "      <td>1536.45</td>\n",
       "      <td>M_0001</td>\n",
       "    </tr>\n",
       "    <tr>\n",
       "      <th>1</th>\n",
       "      <td>2021-11-26 09:22:15</td>\n",
       "      <td>1000</td>\n",
       "      <td>20.04</td>\n",
       "      <td>100.90</td>\n",
       "      <td>1143.92</td>\n",
       "      <td>136.76</td>\n",
       "      <td>1532.18</td>\n",
       "      <td>M_0001</td>\n",
       "    </tr>\n",
       "    <tr>\n",
       "      <th>2</th>\n",
       "      <td>2021-11-26 09:22:15</td>\n",
       "      <td>1000</td>\n",
       "      <td>20.10</td>\n",
       "      <td>101.09</td>\n",
       "      <td>1332.02</td>\n",
       "      <td>137.10</td>\n",
       "      <td>1895.93</td>\n",
       "      <td>M_0002</td>\n",
       "    </tr>\n",
       "    <tr>\n",
       "      <th>3</th>\n",
       "      <td>2021-11-26 09:22:17</td>\n",
       "      <td>1000</td>\n",
       "      <td>20.06</td>\n",
       "      <td>101.00</td>\n",
       "      <td>1335.17</td>\n",
       "      <td>137.09</td>\n",
       "      <td>1896.63</td>\n",
       "      <td>M_0002</td>\n",
       "    </tr>\n",
       "    <tr>\n",
       "      <th>4</th>\n",
       "      <td>2021-11-26 09:22:17</td>\n",
       "      <td>1000</td>\n",
       "      <td>19.93</td>\n",
       "      <td>100.90</td>\n",
       "      <td>1136.33</td>\n",
       "      <td>136.71</td>\n",
       "      <td>1544.43</td>\n",
       "      <td>M_0001</td>\n",
       "    </tr>\n",
       "    <tr>\n",
       "      <th>...</th>\n",
       "      <td>...</td>\n",
       "      <td>...</td>\n",
       "      <td>...</td>\n",
       "      <td>...</td>\n",
       "      <td>...</td>\n",
       "      <td>...</td>\n",
       "      <td>...</td>\n",
       "      <td>...</td>\n",
       "    </tr>\n",
       "    <tr>\n",
       "      <th>6488308</th>\n",
       "      <td>2023-10-14 06:12:56</td>\n",
       "      <td>1000</td>\n",
       "      <td>20.02</td>\n",
       "      <td>101.10</td>\n",
       "      <td>1207.77</td>\n",
       "      <td>138.70</td>\n",
       "      <td>1582.55</td>\n",
       "      <td>M_0009</td>\n",
       "    </tr>\n",
       "    <tr>\n",
       "      <th>6488309</th>\n",
       "      <td>2023-10-14 06:12:59</td>\n",
       "      <td>1000</td>\n",
       "      <td>19.94</td>\n",
       "      <td>100.99</td>\n",
       "      <td>1208.77</td>\n",
       "      <td>138.63</td>\n",
       "      <td>1607.23</td>\n",
       "      <td>M_0009</td>\n",
       "    </tr>\n",
       "    <tr>\n",
       "      <th>6488310</th>\n",
       "      <td>2023-10-14 06:13:01</td>\n",
       "      <td>1000</td>\n",
       "      <td>19.91</td>\n",
       "      <td>101.06</td>\n",
       "      <td>1208.97</td>\n",
       "      <td>138.62</td>\n",
       "      <td>1616.42</td>\n",
       "      <td>M_0009</td>\n",
       "    </tr>\n",
       "    <tr>\n",
       "      <th>6488311</th>\n",
       "      <td>2023-10-14 06:13:05</td>\n",
       "      <td>1000</td>\n",
       "      <td>20.08</td>\n",
       "      <td>100.93</td>\n",
       "      <td>1097.65</td>\n",
       "      <td>137.10</td>\n",
       "      <td>1318.53</td>\n",
       "      <td>M_0024</td>\n",
       "    </tr>\n",
       "    <tr>\n",
       "      <th>6488312</th>\n",
       "      <td>2023-10-14 06:13:05</td>\n",
       "      <td>1000</td>\n",
       "      <td>20.06</td>\n",
       "      <td>101.08</td>\n",
       "      <td>1208.90</td>\n",
       "      <td>138.80</td>\n",
       "      <td>1614.09</td>\n",
       "      <td>M_0009</td>\n",
       "    </tr>\n",
       "  </tbody>\n",
       "</table>\n",
       "<p>6488313 rows × 8 columns</p>\n",
       "</div>"
      ],
      "text/plain": [
       "                  timestamp  speed_desired  ambient_temperature  \\\n",
       "0       2021-11-26 09:22:13           1000                19.93   \n",
       "1       2021-11-26 09:22:15           1000                20.04   \n",
       "2       2021-11-26 09:22:15           1000                20.10   \n",
       "3       2021-11-26 09:22:17           1000                20.06   \n",
       "4       2021-11-26 09:22:17           1000                19.93   \n",
       "...                     ...            ...                  ...   \n",
       "6488308 2023-10-14 06:12:56           1000                20.02   \n",
       "6488309 2023-10-14 06:12:59           1000                19.94   \n",
       "6488310 2023-10-14 06:13:01           1000                19.91   \n",
       "6488311 2023-10-14 06:13:05           1000                20.08   \n",
       "6488312 2023-10-14 06:13:05           1000                20.06   \n",
       "\n",
       "         ambient_pressure    speed  temperature  pressure machineid  \n",
       "0                  100.93  1137.79       136.64   1536.45    M_0001  \n",
       "1                  100.90  1143.92       136.76   1532.18    M_0001  \n",
       "2                  101.09  1332.02       137.10   1895.93    M_0002  \n",
       "3                  101.00  1335.17       137.09   1896.63    M_0002  \n",
       "4                  100.90  1136.33       136.71   1544.43    M_0001  \n",
       "...                   ...      ...          ...       ...       ...  \n",
       "6488308            101.10  1207.77       138.70   1582.55    M_0009  \n",
       "6488309            100.99  1208.77       138.63   1607.23    M_0009  \n",
       "6488310            101.06  1208.97       138.62   1616.42    M_0009  \n",
       "6488311            100.93  1097.65       137.10   1318.53    M_0024  \n",
       "6488312            101.08  1208.90       138.80   1614.09    M_0009  \n",
       "\n",
       "[6488313 rows x 8 columns]"
      ]
     },
     "execution_count": 5,
     "metadata": {},
     "output_type": "execute_result"
    }
   ],
   "source": [
    "samp"
   ]
  },
  {
   "cell_type": "markdown",
   "id": "91e1a81f-3a8e-45f7-ad17-1930c3973ac8",
   "metadata": {},
   "source": [
    "We can see here, that we have 1000 unique machines. That's a lot of data coming in from each sensor. Keep in mind that this is only 1,500,000 of the records from the full dataset. The total number of records is over 13,000,000."
   ]
  },
  {
   "cell_type": "code",
   "execution_count": 6,
   "id": "b3d18bce-e3ea-4719-acde-b0ec75dd559c",
   "metadata": {
    "tags": []
   },
   "outputs": [
    {
     "name": "stdout",
     "output_type": "stream",
     "text": [
      "25\n"
     ]
    }
   ],
   "source": [
    "print(len(samp['machineid'].unique()))"
   ]
  },
  {
   "cell_type": "markdown",
   "id": "52303cd6-51d1-4026-adc2-67504cf2085f",
   "metadata": {},
   "source": [
    "### Exploring Speed"
   ]
  },
  {
   "cell_type": "markdown",
   "id": "0a8e5a8c-3ce8-4afe-81cb-d0d52fbeb442",
   "metadata": {},
   "source": [
    "First, I want to explore the speed_desired field. For some records, it's 1000, and the rest is 0."
   ]
  },
  {
   "cell_type": "code",
   "execution_count": 7,
   "id": "d4a20d6a-0e35-4772-ac81-15ea211e4429",
   "metadata": {
    "tags": []
   },
   "outputs": [
    {
     "data": {
      "text/plain": [
       "Text(0.5, 1.0, 'Distribution of Values for Desired Machine Speed')"
      ]
     },
     "execution_count": 7,
     "metadata": {},
     "output_type": "execute_result"
    },
    {
     "data": {
      "image/png": "[encoded data removed]",
      "text/plain": [
       "<Figure size 640x480 with 1 Axes>"
      ]
     },
     "metadata": {},
     "output_type": "display_data"
    }
   ],
   "source": [
    "samp['speed_desired'].hist()\n",
    "plt.title('Distribution of Values for Desired Machine Speed')"
   ]
  },
  {
   "cell_type": "code",
   "execution_count": 8,
   "id": "671b37d4-66ea-470d-ba68-4a4076faafcc",
   "metadata": {
    "tags": []
   },
   "outputs": [],
   "source": [
    "not1000 = samp[samp['speed_desired'] != 1000]"
   ]
  },
  {
   "cell_type": "code",
   "execution_count": 9,
   "id": "a1d63918-5e6a-4c08-90f1-e119d7bd9f27",
   "metadata": {
    "tags": []
   },
   "outputs": [],
   "source": [
    "not1000.set_index('timestamp', inplace=True)"
   ]
  },
  {
   "cell_type": "markdown",
   "id": "3feafb59-e97b-4e26-8483-984c3e3812eb",
   "metadata": {},
   "source": [
    "Here, I'm looking at the values for the actual speed vs. the desired speed and how it differs. For every machine I checked, there appears to be a common pattern. I assume the spikes are during uptime while the lulls are during machine downtime."
   ]
  },
  {
   "cell_type": "code",
   "execution_count": 10,
   "id": "656d22e1-216b-410f-9abd-d1ce67313b4a",
   "metadata": {
    "tags": []
   },
   "outputs": [
    {
     "data": {
      "text/plain": [
       "<matplotlib.legend.Legend at 0x7fd5a47bb340>"
      ]
     },
     "execution_count": 10,
     "metadata": {},
     "output_type": "execute_result"
    },
    {
     "data": {
      "image/png": "[encoded data removed]",
      "text/plain": [
       "<Figure size 640x480 with 1 Axes>"
      ]
     },
     "metadata": {},
     "output_type": "display_data"
    }
   ],
   "source": [
    "m15 = not1000[not1000['machineid'] == 'M_0015']\n",
    "m15['speed_desired'].plot(label='Desired Speed', color='blue')\n",
    "m15['speed'].plot(label='Speed', color='orange')\n",
    "\n",
    "plt.title('Machine 15 Desired Speed vs. Actual')\n",
    "plt.xlabel('Time')\n",
    "plt.ylabel('Speed (RPM)')\n",
    "plt.legend()"
   ]
  },
  {
   "cell_type": "markdown",
   "id": "27268a87-5aac-4dda-87bf-1d8bdc412317",
   "metadata": {},
   "source": [
    "Below, looking at when the desired speed is 1000 for the same machine, it looks to be a similar pattern but inverted. The lulls appear to be downtime for the machine."
   ]
  },
  {
   "cell_type": "code",
   "execution_count": 11,
   "id": "a6490fd0-4a6f-4deb-a016-0898543f8c0f",
   "metadata": {
    "tags": []
   },
   "outputs": [
    {
     "data": {
      "text/plain": [
       "<matplotlib.legend.Legend at 0x7fd54b1f1e40>"
      ]
     },
     "execution_count": 11,
     "metadata": {},
     "output_type": "execute_result"
    },
    {
     "data": {
      "image/png": "[encoded data removed]",
      "text/plain": [
       "<Figure size 640x480 with 1 Axes>"
      ]
     },
     "metadata": {},
     "output_type": "display_data"
    }
   ],
   "source": [
    "not0 = samp[samp['speed_desired'] != 0]\n",
    "not0.set_index('timestamp', inplace=True)\n",
    "\n",
    "m15_0 = not0[not0['machineid'] == 'M_0015']\n",
    "m15_0['speed_desired'].plot(label='Desired Speed', color='blue')\n",
    "m15_0['speed'].plot(label='Speed', color='orange')\n",
    "\n",
    "plt.title('Machine 15 Desired Speed vs. Actual')\n",
    "plt.xlabel('Datetime')\n",
    "plt.ylabel('Speed RPM')\n",
    "plt.legend()"
   ]
  },
  {
   "cell_type": "markdown",
   "id": "17a6c74d-9427-4a79-8546-d0dff5eb9c39",
   "metadata": {},
   "source": [
    "Now, I'm going to check out the distributions for speeds to see if there's any noticeable outliers"
   ]
  },
  {
   "cell_type": "code",
   "execution_count": 12,
   "id": "8c8c9337-23ca-41f2-b7e5-8939abe36c5b",
   "metadata": {
    "tags": []
   },
   "outputs": [
    {
     "data": {
      "text/plain": [
       "Text(0, 0.5, 'Frequency')"
      ]
     },
     "execution_count": 12,
     "metadata": {},
     "output_type": "execute_result"
    },
    {
     "data": {
      "image/png": "[encoded data removed]",
      "text/plain": [
       "<Figure size 640x480 with 1 Axes>"
      ]
     },
     "metadata": {},
     "output_type": "display_data"
    }
   ],
   "source": [
    "from matplotlib import cm\n",
    "\n",
    "samp['speed'].hist()\n",
    "plt.title('Machine Speed Distributions')\n",
    "plt.xlabel('Speeds')\n",
    "plt.ylabel('Frequency')"
   ]
  },
  {
   "cell_type": "markdown",
   "id": "2f99de98-b1ca-4ed3-87a0-62aaca126b81",
   "metadata": {},
   "source": [
    "It appears that just over 10% of values fall 2 standard deviations away from the mean. Initially, looking into the instances of machines with speed under 325 RPM seemed to be a good approach for checking for potential issues. However, upon further research, negative or low RPM's aren't necessarily uncommon in industrial settings. It could just be one of the following reasons: underloaded or slow operation, error in measurement, or misinterpretation of data. These cases would require tuning/fixing the sensors."
   ]
  },
  {
   "cell_type": "code",
   "execution_count": 13,
   "id": "29ec9643-1787-46ca-9da2-ef5b990be4e5",
   "metadata": {
    "tags": []
   },
   "outputs": [
    {
     "name": "stdout",
     "output_type": "stream",
     "text": [
      "324.32413560099144\n",
      "10.46%\n"
     ]
    }
   ],
   "source": [
    "too_low = samp['speed'].mean() - 2 * samp['speed'].std()\n",
    "print(too_low)\n",
    "filtered = samp[samp['speed'] < too_low]\n",
    "\n",
    "print(str(np.round(len(filtered) / len(samp['speed']) * 100, 2)) + '%')"
   ]
  },
  {
   "cell_type": "markdown",
   "id": "a0490ab4-809f-4b25-ac4c-0269abd12c43",
   "metadata": {},
   "source": [
    "But, I am still curious about the desired speed metric versus the actual speeed metric. What if some differences are abnormally high? So, the average differences in speed between the desired and actual appear to be around 130. Looking 1.5 standard deviations away from the mean, we have a difference of 232. These could be potential issues to check out for these machines posting these differences"
   ]
  },
  {
   "cell_type": "code",
   "execution_count": 14,
   "id": "7712da36-d0fb-4563-9e00-8277f2cdf5c0",
   "metadata": {
    "tags": []
   },
   "outputs": [
    {
     "name": "stdout",
     "output_type": "stream",
     "text": [
      "5.82%\n"
     ]
    }
   ],
   "source": [
    "samp['Speed Difference'] = abs(samp['speed_desired'] - samp['speed'])\n",
    "too_high = samp['Speed Difference'].mean() + 1.5 * samp['Speed Difference'].std()\n",
    "print(str(np.round(len(samp[samp['Speed Difference'] > too_high]) / len(samp) * 100, 2)) + '%')"
   ]
  },
  {
   "cell_type": "code",
   "execution_count": 15,
   "id": "4916cfb7-a7e2-47e5-bd0f-559b429c88ea",
   "metadata": {
    "tags": []
   },
   "outputs": [
    {
     "data": {
      "text/plain": [
       "Text(0, 0.5, 'Frequency')"
      ]
     },
     "execution_count": 15,
     "metadata": {},
     "output_type": "execute_result"
    },
    {
     "data": {
      "image/png": "[encoded data removed]",
      "text/plain": [
       "<Figure size 640x480 with 1 Axes>"
      ]
     },
     "metadata": {},
     "output_type": "display_data"
    }
   ],
   "source": [
    "samp['Speed Difference'].hist()\n",
    "plt.title('Machine Speed Difference Distributions')\n",
    "plt.xlabel('Speed Difference')\n",
    "plt.ylabel('Frequency')"
   ]
  },
  {
   "cell_type": "markdown",
   "id": "b451e453-0aec-40a5-8799-84b0096ba6a9",
   "metadata": {},
   "source": [
    "From looking into speed, one of the criteria for evaluating risk will be the difference between the desired and the actual speed. More specifically, if the speed difference is over 230, then the records will be marked as having more risk for failure."
   ]
  },
  {
   "cell_type": "code",
   "execution_count": 16,
   "id": "4a811173-5ce8-4680-8352-1d574ac8eccb",
   "metadata": {
    "tags": []
   },
   "outputs": [
    {
     "name": "stdout",
     "output_type": "stream",
     "text": [
      "544030\n",
      "102711\n",
      "41985\n",
      "2983\n"
     ]
    }
   ],
   "source": [
    "print(len(samp[samp['Speed Difference'] > 232]))\n",
    "print(len(samp[samp['Speed Difference'] > 400]))\n",
    "print(len(samp[samp['Speed Difference'] > 530]))\n",
    "print(len(samp[samp['Speed Difference'] > 630]))"
   ]
  },
  {
   "cell_type": "markdown",
   "id": "ed332ef6-53d0-44c3-a1fb-f0e6916d9556",
   "metadata": {},
   "source": [
    "### Temperature"
   ]
  },
  {
   "cell_type": "markdown",
   "id": "6d1bf6cf-7bd2-41ea-b2a1-e7cddd90eacb",
   "metadata": {},
   "source": [
    "Now, let's look at the machine temperature (measured in Fahrenheit). Looking at the histogram, it doesn't look like there's any outliers on the lower end, but there seems to be some outliers on the higher end. High temperatures could be potentially dangerous for machines, endangering not only the factory but also people. Let's look more into the outliers."
   ]
  },
  {
   "cell_type": "code",
   "execution_count": 17,
   "id": "7c03b7a7-c520-4415-b926-318f5f217253",
   "metadata": {
    "tags": []
   },
   "outputs": [
    {
     "data": {
      "text/plain": [
       "Text(0.5, 1.0, 'Machine Temperatures')"
      ]
     },
     "execution_count": 17,
     "metadata": {},
     "output_type": "execute_result"
    },
    {
     "data": {
      "image/png": "[encoded data removed]",
      "text/plain": [
       "<Figure size 640x480 with 1 Axes>"
      ]
     },
     "metadata": {},
     "output_type": "display_data"
    }
   ],
   "source": [
    "samp['temperature'].hist(color='red')\n",
    "plt.title('Machine Temperatures')"
   ]
  },
  {
   "cell_type": "code",
   "execution_count": 18,
   "id": "68a08f0d-115f-4d56-bf0e-cf732c7a9a87",
   "metadata": {
    "tags": []
   },
   "outputs": [
    {
     "name": "stdout",
     "output_type": "stream",
     "text": [
      "127.76075946913498\n",
      "158.6084171350145\n"
     ]
    }
   ],
   "source": [
    "too_low = samp['temperature'].mean() - 2 * samp['temperature'].std()\n",
    "print(too_low)\n",
    "too_high = samp['temperature'].mean() + 2 * samp['temperature'].std()\n",
    "print(too_high)"
   ]
  },
  {
   "cell_type": "markdown",
   "id": "2605c24a-197e-4396-b391-af2b195928a8",
   "metadata": {},
   "source": [
    "What risks could low temperatures pose? It's not immediately clear, so I won't consider low outliers for risk calculation. If a machine's temperature is too high at any point in time, I will flag it with a higher risk score. "
   ]
  },
  {
   "cell_type": "code",
   "execution_count": 19,
   "id": "e62a7387-8260-4443-b8f3-b65f65662dca",
   "metadata": {
    "tags": []
   },
   "outputs": [
    {
     "name": "stdout",
     "output_type": "stream",
     "text": [
      "0.0010480382188713768% is too low (less than -2 standard deviations from the mean)\n",
      "4.87% is too high (more than 2 standard deviations from the mean)\n"
     ]
    }
   ],
   "source": [
    "print(str(len(samp[samp['temperature'] < too_low]) / len(samp) * 100) + '% is too low (less than -2 standard deviations from the mean)')\n",
    "print(str(np.round(len(samp[samp['temperature'] > too_high]) / len(samp) * 100, 2)) + '% is too high (more than 2 standard deviations from the mean)')"
   ]
  },
  {
   "cell_type": "code",
   "execution_count": 20,
   "id": "7e50f8af-5da4-4431-a0e3-99f2c9bb5555",
   "metadata": {
    "tags": []
   },
   "outputs": [
    {
     "data": {
      "text/html": [
       "<div>\n",
       "<style scoped>\n",
       "    .dataframe tbody tr th:only-of-type {\n",
       "        vertical-align: middle;\n",
       "    }\n",
       "\n",
       "    .dataframe tbody tr th {\n",
       "        vertical-align: top;\n",
       "    }\n",
       "\n",
       "    .dataframe thead th {\n",
       "        text-align: right;\n",
       "    }\n",
       "</style>\n",
       "<table border=\"1\" class=\"dataframe\">\n",
       "  <thead>\n",
       "    <tr style=\"text-align: right;\">\n",
       "      <th></th>\n",
       "      <th>timestamp</th>\n",
       "      <th>speed_desired</th>\n",
       "      <th>ambient_temperature</th>\n",
       "      <th>ambient_pressure</th>\n",
       "      <th>speed</th>\n",
       "      <th>temperature</th>\n",
       "      <th>pressure</th>\n",
       "      <th>machineid</th>\n",
       "      <th>Speed Difference</th>\n",
       "    </tr>\n",
       "  </thead>\n",
       "  <tbody>\n",
       "    <tr>\n",
       "      <th>3733</th>\n",
       "      <td>2021-11-26 18:37:37</td>\n",
       "      <td>1000</td>\n",
       "      <td>19.91</td>\n",
       "      <td>100.96</td>\n",
       "      <td>1129.22</td>\n",
       "      <td>200.68</td>\n",
       "      <td>308.61</td>\n",
       "      <td>M_0009</td>\n",
       "      <td>129.22</td>\n",
       "    </tr>\n",
       "    <tr>\n",
       "      <th>3734</th>\n",
       "      <td>2021-11-26 18:37:40</td>\n",
       "      <td>1000</td>\n",
       "      <td>20.03</td>\n",
       "      <td>101.05</td>\n",
       "      <td>1127.35</td>\n",
       "      <td>203.05</td>\n",
       "      <td>280.50</td>\n",
       "      <td>M_0009</td>\n",
       "      <td>127.35</td>\n",
       "    </tr>\n",
       "    <tr>\n",
       "      <th>3735</th>\n",
       "      <td>2021-11-26 18:37:42</td>\n",
       "      <td>1000</td>\n",
       "      <td>19.96</td>\n",
       "      <td>100.95</td>\n",
       "      <td>1125.33</td>\n",
       "      <td>205.36</td>\n",
       "      <td>285.80</td>\n",
       "      <td>M_0009</td>\n",
       "      <td>125.33</td>\n",
       "    </tr>\n",
       "    <tr>\n",
       "      <th>3736</th>\n",
       "      <td>2021-11-26 18:37:46</td>\n",
       "      <td>1000</td>\n",
       "      <td>20.00</td>\n",
       "      <td>101.08</td>\n",
       "      <td>1124.79</td>\n",
       "      <td>214.92</td>\n",
       "      <td>204.82</td>\n",
       "      <td>M_0009</td>\n",
       "      <td>124.79</td>\n",
       "    </tr>\n",
       "    <tr>\n",
       "      <th>16894</th>\n",
       "      <td>2022-01-13 06:20:40</td>\n",
       "      <td>0</td>\n",
       "      <td>19.94</td>\n",
       "      <td>101.06</td>\n",
       "      <td>614.22</td>\n",
       "      <td>205.31</td>\n",
       "      <td>156.24</td>\n",
       "      <td>M_0014</td>\n",
       "      <td>614.22</td>\n",
       "    </tr>\n",
       "    <tr>\n",
       "      <th>...</th>\n",
       "      <td>...</td>\n",
       "      <td>...</td>\n",
       "      <td>...</td>\n",
       "      <td>...</td>\n",
       "      <td>...</td>\n",
       "      <td>...</td>\n",
       "      <td>...</td>\n",
       "      <td>...</td>\n",
       "      <td>...</td>\n",
       "    </tr>\n",
       "    <tr>\n",
       "      <th>6465118</th>\n",
       "      <td>2023-08-27 03:51:39</td>\n",
       "      <td>1000</td>\n",
       "      <td>20.05</td>\n",
       "      <td>101.05</td>\n",
       "      <td>1209.27</td>\n",
       "      <td>202.08</td>\n",
       "      <td>358.29</td>\n",
       "      <td>M_0023</td>\n",
       "      <td>209.27</td>\n",
       "    </tr>\n",
       "    <tr>\n",
       "      <th>6465121</th>\n",
       "      <td>2023-08-27 03:51:46</td>\n",
       "      <td>1000</td>\n",
       "      <td>20.04</td>\n",
       "      <td>100.93</td>\n",
       "      <td>1210.32</td>\n",
       "      <td>214.86</td>\n",
       "      <td>207.23</td>\n",
       "      <td>M_0023</td>\n",
       "      <td>210.32</td>\n",
       "    </tr>\n",
       "    <tr>\n",
       "      <th>6472257</th>\n",
       "      <td>2023-08-26 09:10:29</td>\n",
       "      <td>1000</td>\n",
       "      <td>20.05</td>\n",
       "      <td>100.91</td>\n",
       "      <td>1141.37</td>\n",
       "      <td>200.55</td>\n",
       "      <td>332.28</td>\n",
       "      <td>M_0017</td>\n",
       "      <td>141.37</td>\n",
       "    </tr>\n",
       "    <tr>\n",
       "      <th>6472258</th>\n",
       "      <td>2023-08-26 09:10:34</td>\n",
       "      <td>1000</td>\n",
       "      <td>19.95</td>\n",
       "      <td>101.00</td>\n",
       "      <td>1136.81</td>\n",
       "      <td>205.37</td>\n",
       "      <td>273.31</td>\n",
       "      <td>M_0017</td>\n",
       "      <td>136.81</td>\n",
       "    </tr>\n",
       "    <tr>\n",
       "      <th>6472259</th>\n",
       "      <td>2023-08-26 09:10:36</td>\n",
       "      <td>1000</td>\n",
       "      <td>19.97</td>\n",
       "      <td>101.06</td>\n",
       "      <td>1139.44</td>\n",
       "      <td>208.52</td>\n",
       "      <td>256.03</td>\n",
       "      <td>M_0017</td>\n",
       "      <td>139.44</td>\n",
       "    </tr>\n",
       "  </tbody>\n",
       "</table>\n",
       "<p>2004 rows × 9 columns</p>\n",
       "</div>"
      ],
      "text/plain": [
       "                  timestamp  speed_desired  ambient_temperature  \\\n",
       "3733    2021-11-26 18:37:37           1000                19.91   \n",
       "3734    2021-11-26 18:37:40           1000                20.03   \n",
       "3735    2021-11-26 18:37:42           1000                19.96   \n",
       "3736    2021-11-26 18:37:46           1000                20.00   \n",
       "16894   2022-01-13 06:20:40              0                19.94   \n",
       "...                     ...            ...                  ...   \n",
       "6465118 2023-08-27 03:51:39           1000                20.05   \n",
       "6465121 2023-08-27 03:51:46           1000                20.04   \n",
       "6472257 2023-08-26 09:10:29           1000                20.05   \n",
       "6472258 2023-08-26 09:10:34           1000                19.95   \n",
       "6472259 2023-08-26 09:10:36           1000                19.97   \n",
       "\n",
       "         ambient_pressure    speed  temperature  pressure machineid  \\\n",
       "3733               100.96  1129.22       200.68    308.61    M_0009   \n",
       "3734               101.05  1127.35       203.05    280.50    M_0009   \n",
       "3735               100.95  1125.33       205.36    285.80    M_0009   \n",
       "3736               101.08  1124.79       214.92    204.82    M_0009   \n",
       "16894              101.06   614.22       205.31    156.24    M_0014   \n",
       "...                   ...      ...          ...       ...       ...   \n",
       "6465118            101.05  1209.27       202.08    358.29    M_0023   \n",
       "6465121            100.93  1210.32       214.86    207.23    M_0023   \n",
       "6472257            100.91  1141.37       200.55    332.28    M_0017   \n",
       "6472258            101.00  1136.81       205.37    273.31    M_0017   \n",
       "6472259            101.06  1139.44       208.52    256.03    M_0017   \n",
       "\n",
       "         Speed Difference  \n",
       "3733               129.22  \n",
       "3734               127.35  \n",
       "3735               125.33  \n",
       "3736               124.79  \n",
       "16894              614.22  \n",
       "...                   ...  \n",
       "6465118            209.27  \n",
       "6465121            210.32  \n",
       "6472257            141.37  \n",
       "6472258            136.81  \n",
       "6472259            139.44  \n",
       "\n",
       "[2004 rows x 9 columns]"
      ]
     },
     "execution_count": 20,
     "metadata": {},
     "output_type": "execute_result"
    }
   ],
   "source": [
    "samp[samp['temperature'] > 200]"
   ]
  },
  {
   "cell_type": "code",
   "execution_count": 21,
   "id": "0d6417b0-d7b7-438a-ab38-99b6c319c255",
   "metadata": {
    "tags": []
   },
   "outputs": [
    {
     "data": {
      "text/html": [
       "<div>\n",
       "<style scoped>\n",
       "    .dataframe tbody tr th:only-of-type {\n",
       "        vertical-align: middle;\n",
       "    }\n",
       "\n",
       "    .dataframe tbody tr th {\n",
       "        vertical-align: top;\n",
       "    }\n",
       "\n",
       "    .dataframe thead th {\n",
       "        text-align: right;\n",
       "    }\n",
       "</style>\n",
       "<table border=\"1\" class=\"dataframe\">\n",
       "  <thead>\n",
       "    <tr style=\"text-align: right;\">\n",
       "      <th></th>\n",
       "      <th>timestamp</th>\n",
       "      <th>speed_desired</th>\n",
       "      <th>ambient_temperature</th>\n",
       "      <th>ambient_pressure</th>\n",
       "      <th>speed</th>\n",
       "      <th>temperature</th>\n",
       "      <th>pressure</th>\n",
       "      <th>machineid</th>\n",
       "      <th>Speed Difference</th>\n",
       "    </tr>\n",
       "  </thead>\n",
       "  <tbody>\n",
       "    <tr>\n",
       "      <th>3733</th>\n",
       "      <td>2021-11-26 18:37:37</td>\n",
       "      <td>1000</td>\n",
       "      <td>19.91</td>\n",
       "      <td>100.96</td>\n",
       "      <td>1129.22</td>\n",
       "      <td>200.68</td>\n",
       "      <td>308.61</td>\n",
       "      <td>M_0009</td>\n",
       "      <td>129.22</td>\n",
       "    </tr>\n",
       "    <tr>\n",
       "      <th>3734</th>\n",
       "      <td>2021-11-26 18:37:40</td>\n",
       "      <td>1000</td>\n",
       "      <td>20.03</td>\n",
       "      <td>101.05</td>\n",
       "      <td>1127.35</td>\n",
       "      <td>203.05</td>\n",
       "      <td>280.50</td>\n",
       "      <td>M_0009</td>\n",
       "      <td>127.35</td>\n",
       "    </tr>\n",
       "    <tr>\n",
       "      <th>3735</th>\n",
       "      <td>2021-11-26 18:37:42</td>\n",
       "      <td>1000</td>\n",
       "      <td>19.96</td>\n",
       "      <td>100.95</td>\n",
       "      <td>1125.33</td>\n",
       "      <td>205.36</td>\n",
       "      <td>285.80</td>\n",
       "      <td>M_0009</td>\n",
       "      <td>125.33</td>\n",
       "    </tr>\n",
       "    <tr>\n",
       "      <th>3736</th>\n",
       "      <td>2021-11-26 18:37:46</td>\n",
       "      <td>1000</td>\n",
       "      <td>20.00</td>\n",
       "      <td>101.08</td>\n",
       "      <td>1124.79</td>\n",
       "      <td>214.92</td>\n",
       "      <td>204.82</td>\n",
       "      <td>M_0009</td>\n",
       "      <td>124.79</td>\n",
       "    </tr>\n",
       "    <tr>\n",
       "      <th>16894</th>\n",
       "      <td>2022-01-13 06:20:40</td>\n",
       "      <td>0</td>\n",
       "      <td>19.94</td>\n",
       "      <td>101.06</td>\n",
       "      <td>614.22</td>\n",
       "      <td>205.31</td>\n",
       "      <td>156.24</td>\n",
       "      <td>M_0014</td>\n",
       "      <td>614.22</td>\n",
       "    </tr>\n",
       "    <tr>\n",
       "      <th>...</th>\n",
       "      <td>...</td>\n",
       "      <td>...</td>\n",
       "      <td>...</td>\n",
       "      <td>...</td>\n",
       "      <td>...</td>\n",
       "      <td>...</td>\n",
       "      <td>...</td>\n",
       "      <td>...</td>\n",
       "      <td>...</td>\n",
       "    </tr>\n",
       "    <tr>\n",
       "      <th>6465118</th>\n",
       "      <td>2023-08-27 03:51:39</td>\n",
       "      <td>1000</td>\n",
       "      <td>20.05</td>\n",
       "      <td>101.05</td>\n",
       "      <td>1209.27</td>\n",
       "      <td>202.08</td>\n",
       "      <td>358.29</td>\n",
       "      <td>M_0023</td>\n",
       "      <td>209.27</td>\n",
       "    </tr>\n",
       "    <tr>\n",
       "      <th>6465121</th>\n",
       "      <td>2023-08-27 03:51:46</td>\n",
       "      <td>1000</td>\n",
       "      <td>20.04</td>\n",
       "      <td>100.93</td>\n",
       "      <td>1210.32</td>\n",
       "      <td>214.86</td>\n",
       "      <td>207.23</td>\n",
       "      <td>M_0023</td>\n",
       "      <td>210.32</td>\n",
       "    </tr>\n",
       "    <tr>\n",
       "      <th>6472257</th>\n",
       "      <td>2023-08-26 09:10:29</td>\n",
       "      <td>1000</td>\n",
       "      <td>20.05</td>\n",
       "      <td>100.91</td>\n",
       "      <td>1141.37</td>\n",
       "      <td>200.55</td>\n",
       "      <td>332.28</td>\n",
       "      <td>M_0017</td>\n",
       "      <td>141.37</td>\n",
       "    </tr>\n",
       "    <tr>\n",
       "      <th>6472258</th>\n",
       "      <td>2023-08-26 09:10:34</td>\n",
       "      <td>1000</td>\n",
       "      <td>19.95</td>\n",
       "      <td>101.00</td>\n",
       "      <td>1136.81</td>\n",
       "      <td>205.37</td>\n",
       "      <td>273.31</td>\n",
       "      <td>M_0017</td>\n",
       "      <td>136.81</td>\n",
       "    </tr>\n",
       "    <tr>\n",
       "      <th>6472259</th>\n",
       "      <td>2023-08-26 09:10:36</td>\n",
       "      <td>1000</td>\n",
       "      <td>19.97</td>\n",
       "      <td>101.06</td>\n",
       "      <td>1139.44</td>\n",
       "      <td>208.52</td>\n",
       "      <td>256.03</td>\n",
       "      <td>M_0017</td>\n",
       "      <td>139.44</td>\n",
       "    </tr>\n",
       "  </tbody>\n",
       "</table>\n",
       "<p>2004 rows × 9 columns</p>\n",
       "</div>"
      ],
      "text/plain": [
       "                  timestamp  speed_desired  ambient_temperature  \\\n",
       "3733    2021-11-26 18:37:37           1000                19.91   \n",
       "3734    2021-11-26 18:37:40           1000                20.03   \n",
       "3735    2021-11-26 18:37:42           1000                19.96   \n",
       "3736    2021-11-26 18:37:46           1000                20.00   \n",
       "16894   2022-01-13 06:20:40              0                19.94   \n",
       "...                     ...            ...                  ...   \n",
       "6465118 2023-08-27 03:51:39           1000                20.05   \n",
       "6465121 2023-08-27 03:51:46           1000                20.04   \n",
       "6472257 2023-08-26 09:10:29           1000                20.05   \n",
       "6472258 2023-08-26 09:10:34           1000                19.95   \n",
       "6472259 2023-08-26 09:10:36           1000                19.97   \n",
       "\n",
       "         ambient_pressure    speed  temperature  pressure machineid  \\\n",
       "3733               100.96  1129.22       200.68    308.61    M_0009   \n",
       "3734               101.05  1127.35       203.05    280.50    M_0009   \n",
       "3735               100.95  1125.33       205.36    285.80    M_0009   \n",
       "3736               101.08  1124.79       214.92    204.82    M_0009   \n",
       "16894              101.06   614.22       205.31    156.24    M_0014   \n",
       "...                   ...      ...          ...       ...       ...   \n",
       "6465118            101.05  1209.27       202.08    358.29    M_0023   \n",
       "6465121            100.93  1210.32       214.86    207.23    M_0023   \n",
       "6472257            100.91  1141.37       200.55    332.28    M_0017   \n",
       "6472258            101.00  1136.81       205.37    273.31    M_0017   \n",
       "6472259            101.06  1139.44       208.52    256.03    M_0017   \n",
       "\n",
       "         Speed Difference  \n",
       "3733               129.22  \n",
       "3734               127.35  \n",
       "3735               125.33  \n",
       "3736               124.79  \n",
       "16894              614.22  \n",
       "...                   ...  \n",
       "6465118            209.27  \n",
       "6465121            210.32  \n",
       "6472257            141.37  \n",
       "6472258            136.81  \n",
       "6472259            139.44  \n",
       "\n",
       "[2004 rows x 9 columns]"
      ]
     },
     "execution_count": 21,
     "metadata": {},
     "output_type": "execute_result"
    }
   ],
   "source": [
    "samp[samp['temperature'] > 200]"
   ]
  },
  {
   "cell_type": "code",
   "execution_count": 22,
   "id": "d2c4128b-0775-4f5d-a84f-0ee4c2bf403e",
   "metadata": {
    "tags": []
   },
   "outputs": [
    {
     "data": {
      "text/html": [
       "<div>\n",
       "<style scoped>\n",
       "    .dataframe tbody tr th:only-of-type {\n",
       "        vertical-align: middle;\n",
       "    }\n",
       "\n",
       "    .dataframe tbody tr th {\n",
       "        vertical-align: top;\n",
       "    }\n",
       "\n",
       "    .dataframe thead th {\n",
       "        text-align: right;\n",
       "    }\n",
       "</style>\n",
       "<table border=\"1\" class=\"dataframe\">\n",
       "  <thead>\n",
       "    <tr style=\"text-align: right;\">\n",
       "      <th></th>\n",
       "      <th>timestamp</th>\n",
       "      <th>speed_desired</th>\n",
       "      <th>ambient_temperature</th>\n",
       "      <th>ambient_pressure</th>\n",
       "      <th>speed</th>\n",
       "      <th>temperature</th>\n",
       "      <th>pressure</th>\n",
       "      <th>machineid</th>\n",
       "      <th>Speed Difference</th>\n",
       "    </tr>\n",
       "  </thead>\n",
       "  <tbody>\n",
       "    <tr>\n",
       "      <th>3733</th>\n",
       "      <td>2021-11-26 18:37:37</td>\n",
       "      <td>1000</td>\n",
       "      <td>19.91</td>\n",
       "      <td>100.96</td>\n",
       "      <td>1129.22</td>\n",
       "      <td>200.68</td>\n",
       "      <td>308.61</td>\n",
       "      <td>M_0009</td>\n",
       "      <td>129.22</td>\n",
       "    </tr>\n",
       "    <tr>\n",
       "      <th>3734</th>\n",
       "      <td>2021-11-26 18:37:40</td>\n",
       "      <td>1000</td>\n",
       "      <td>20.03</td>\n",
       "      <td>101.05</td>\n",
       "      <td>1127.35</td>\n",
       "      <td>203.05</td>\n",
       "      <td>280.50</td>\n",
       "      <td>M_0009</td>\n",
       "      <td>127.35</td>\n",
       "    </tr>\n",
       "    <tr>\n",
       "      <th>3735</th>\n",
       "      <td>2021-11-26 18:37:42</td>\n",
       "      <td>1000</td>\n",
       "      <td>19.96</td>\n",
       "      <td>100.95</td>\n",
       "      <td>1125.33</td>\n",
       "      <td>205.36</td>\n",
       "      <td>285.80</td>\n",
       "      <td>M_0009</td>\n",
       "      <td>125.33</td>\n",
       "    </tr>\n",
       "    <tr>\n",
       "      <th>3736</th>\n",
       "      <td>2021-11-26 18:37:46</td>\n",
       "      <td>1000</td>\n",
       "      <td>20.00</td>\n",
       "      <td>101.08</td>\n",
       "      <td>1124.79</td>\n",
       "      <td>214.92</td>\n",
       "      <td>204.82</td>\n",
       "      <td>M_0009</td>\n",
       "      <td>124.79</td>\n",
       "    </tr>\n",
       "    <tr>\n",
       "      <th>16894</th>\n",
       "      <td>2022-01-13 06:20:40</td>\n",
       "      <td>0</td>\n",
       "      <td>19.94</td>\n",
       "      <td>101.06</td>\n",
       "      <td>614.22</td>\n",
       "      <td>205.31</td>\n",
       "      <td>156.24</td>\n",
       "      <td>M_0014</td>\n",
       "      <td>614.22</td>\n",
       "    </tr>\n",
       "    <tr>\n",
       "      <th>...</th>\n",
       "      <td>...</td>\n",
       "      <td>...</td>\n",
       "      <td>...</td>\n",
       "      <td>...</td>\n",
       "      <td>...</td>\n",
       "      <td>...</td>\n",
       "      <td>...</td>\n",
       "      <td>...</td>\n",
       "      <td>...</td>\n",
       "    </tr>\n",
       "    <tr>\n",
       "      <th>6465118</th>\n",
       "      <td>2023-08-27 03:51:39</td>\n",
       "      <td>1000</td>\n",
       "      <td>20.05</td>\n",
       "      <td>101.05</td>\n",
       "      <td>1209.27</td>\n",
       "      <td>202.08</td>\n",
       "      <td>358.29</td>\n",
       "      <td>M_0023</td>\n",
       "      <td>209.27</td>\n",
       "    </tr>\n",
       "    <tr>\n",
       "      <th>6465121</th>\n",
       "      <td>2023-08-27 03:51:46</td>\n",
       "      <td>1000</td>\n",
       "      <td>20.04</td>\n",
       "      <td>100.93</td>\n",
       "      <td>1210.32</td>\n",
       "      <td>214.86</td>\n",
       "      <td>207.23</td>\n",
       "      <td>M_0023</td>\n",
       "      <td>210.32</td>\n",
       "    </tr>\n",
       "    <tr>\n",
       "      <th>6472257</th>\n",
       "      <td>2023-08-26 09:10:29</td>\n",
       "      <td>1000</td>\n",
       "      <td>20.05</td>\n",
       "      <td>100.91</td>\n",
       "      <td>1141.37</td>\n",
       "      <td>200.55</td>\n",
       "      <td>332.28</td>\n",
       "      <td>M_0017</td>\n",
       "      <td>141.37</td>\n",
       "    </tr>\n",
       "    <tr>\n",
       "      <th>6472258</th>\n",
       "      <td>2023-08-26 09:10:34</td>\n",
       "      <td>1000</td>\n",
       "      <td>19.95</td>\n",
       "      <td>101.00</td>\n",
       "      <td>1136.81</td>\n",
       "      <td>205.37</td>\n",
       "      <td>273.31</td>\n",
       "      <td>M_0017</td>\n",
       "      <td>136.81</td>\n",
       "    </tr>\n",
       "    <tr>\n",
       "      <th>6472259</th>\n",
       "      <td>2023-08-26 09:10:36</td>\n",
       "      <td>1000</td>\n",
       "      <td>19.97</td>\n",
       "      <td>101.06</td>\n",
       "      <td>1139.44</td>\n",
       "      <td>208.52</td>\n",
       "      <td>256.03</td>\n",
       "      <td>M_0017</td>\n",
       "      <td>139.44</td>\n",
       "    </tr>\n",
       "  </tbody>\n",
       "</table>\n",
       "<p>2004 rows × 9 columns</p>\n",
       "</div>"
      ],
      "text/plain": [
       "                  timestamp  speed_desired  ambient_temperature  \\\n",
       "3733    2021-11-26 18:37:37           1000                19.91   \n",
       "3734    2021-11-26 18:37:40           1000                20.03   \n",
       "3735    2021-11-26 18:37:42           1000                19.96   \n",
       "3736    2021-11-26 18:37:46           1000                20.00   \n",
       "16894   2022-01-13 06:20:40              0                19.94   \n",
       "...                     ...            ...                  ...   \n",
       "6465118 2023-08-27 03:51:39           1000                20.05   \n",
       "6465121 2023-08-27 03:51:46           1000                20.04   \n",
       "6472257 2023-08-26 09:10:29           1000                20.05   \n",
       "6472258 2023-08-26 09:10:34           1000                19.95   \n",
       "6472259 2023-08-26 09:10:36           1000                19.97   \n",
       "\n",
       "         ambient_pressure    speed  temperature  pressure machineid  \\\n",
       "3733               100.96  1129.22       200.68    308.61    M_0009   \n",
       "3734               101.05  1127.35       203.05    280.50    M_0009   \n",
       "3735               100.95  1125.33       205.36    285.80    M_0009   \n",
       "3736               101.08  1124.79       214.92    204.82    M_0009   \n",
       "16894              101.06   614.22       205.31    156.24    M_0014   \n",
       "...                   ...      ...          ...       ...       ...   \n",
       "6465118            101.05  1209.27       202.08    358.29    M_0023   \n",
       "6465121            100.93  1210.32       214.86    207.23    M_0023   \n",
       "6472257            100.91  1141.37       200.55    332.28    M_0017   \n",
       "6472258            101.00  1136.81       205.37    273.31    M_0017   \n",
       "6472259            101.06  1139.44       208.52    256.03    M_0017   \n",
       "\n",
       "         Speed Difference  \n",
       "3733               129.22  \n",
       "3734               127.35  \n",
       "3735               125.33  \n",
       "3736               124.79  \n",
       "16894              614.22  \n",
       "...                   ...  \n",
       "6465118            209.27  \n",
       "6465121            210.32  \n",
       "6472257            141.37  \n",
       "6472258            136.81  \n",
       "6472259            139.44  \n",
       "\n",
       "[2004 rows x 9 columns]"
      ]
     },
     "execution_count": 22,
     "metadata": {},
     "output_type": "execute_result"
    }
   ],
   "source": [
    "samp[samp['temperature'] > 200]"
   ]
  },
  {
   "cell_type": "markdown",
   "id": "598f23f1-9fe4-4ec9-9192-78ef437b59f2",
   "metadata": {},
   "source": [
    "### Exploring Pressure"
   ]
  },
  {
   "cell_type": "markdown",
   "id": "ed28ec95-e8f0-4798-b92d-b30700e1c7a1",
   "metadata": {},
   "source": [
    "Now, let's look at pressure (measured in kilopascal). In this context, pressure measures the force of a liquid within the system. "
   ]
  },
  {
   "cell_type": "code",
   "execution_count": 23,
   "id": "0ec27091-3594-4d77-a225-767454262a8f",
   "metadata": {
    "tags": []
   },
   "outputs": [
    {
     "data": {
      "text/plain": [
       "Text(0, 0.5, 'Frequency')"
      ]
     },
     "execution_count": 23,
     "metadata": {},
     "output_type": "execute_result"
    },
    {
     "data": {
      "image/png": "[encoded data removed]",
      "text/plain": [
       "<Figure size 640x480 with 1 Axes>"
      ]
     },
     "metadata": {},
     "output_type": "display_data"
    }
   ],
   "source": [
    "samp['pressure'].hist(color='green')\n",
    "plt.title('Machine Pressure Distributions')\n",
    "plt.xlabel('Pressure (kPa)')\n",
    "plt.ylabel('Frequency')"
   ]
  },
  {
   "cell_type": "code",
   "execution_count": 24,
   "id": "ba1f38b5-bcbd-4032-b333-a1a7e74e0744",
   "metadata": {
    "tags": []
   },
   "outputs": [
    {
     "name": "stdout",
     "output_type": "stream",
     "text": [
      "405.26610433174255\n",
      "2081.245044594028\n"
     ]
    }
   ],
   "source": [
    "too_low = samp['pressure'].mean() - 2 * samp['pressure'].std()\n",
    "print(too_low)\n",
    "too_high = samp['pressure'].mean() + 2 * samp['pressure'].std()\n",
    "print(too_high)"
   ]
  },
  {
   "cell_type": "markdown",
   "id": "cdaa6fb1-a9eb-4205-a298-498c139cd423",
   "metadata": {},
   "source": [
    "It looks like we have a case of outliers on the lower end. There are a small amount on the higher end, so I'll consider those when evaluating risk, but about 9% of records are much too low. What could low pressure mean? Could be anything from leakages, worn out parts, or a faulty sensor. In any case, action should be taken to fix this. Meanwhile, high pressure could be a result of excessive load or an obstruction."
   ]
  },
  {
   "cell_type": "code",
   "execution_count": 25,
   "id": "f1643dc1-cd2d-4089-b08a-2d3d7f7b1636",
   "metadata": {
    "tags": []
   },
   "outputs": [
    {
     "name": "stdout",
     "output_type": "stream",
     "text": [
      "8.81% is too low (less than -2 standard deviations from the mean)\n",
      "0.12% is too high (more than 2 standard deviations from the mean)\n"
     ]
    }
   ],
   "source": [
    "print(str(np.round(len(samp[samp['pressure'] <  too_low]) / len(samp) * 100, 2)) + '% is too low (less than -2 standard deviations from the mean)')\n",
    "print(str(np.round(len(samp[samp['pressure'] > too_high]) / len(samp) * 100, 2)) + '% is too high (more than 2 standard deviations from the mean)')"
   ]
  },
  {
   "cell_type": "markdown",
   "id": "cdcee97d-22be-4106-b798-9f71c5187e68",
   "metadata": {},
   "source": [
    "### Exploring Ambient Temperature and Ambient Pressure"
   ]
  },
  {
   "cell_type": "markdown",
   "id": "829d672e-5234-4f73-a316-c20d6ae0dda2",
   "metadata": {},
   "source": [
    "Looking at the histograms for these metrics, it doesn't seem like there's any outliers, but I'll check just in case. "
   ]
  },
  {
   "cell_type": "code",
   "execution_count": 26,
   "id": "65548210-0fcf-4b19-8ec4-fc6917afc295",
   "metadata": {
    "tags": []
   },
   "outputs": [
    {
     "data": {
      "text/plain": [
       "Text(0, 0.5, 'Frequency')"
      ]
     },
     "execution_count": 26,
     "metadata": {},
     "output_type": "execute_result"
    },
    {
     "data": {
      "image/png": "[encoded data removed]",
      "text/plain": [
       "<Figure size 640x480 with 1 Axes>"
      ]
     },
     "metadata": {},
     "output_type": "display_data"
    }
   ],
   "source": [
    "samp['ambient_temperature'].hist(color='orange')\n",
    "plt.title('Machine Ambient Temperature Distribution')\n",
    "plt.xlabel('Ambient Temperature (Celcius)')\n",
    "plt.ylabel('Frequency')"
   ]
  },
  {
   "cell_type": "markdown",
   "id": "ea35f072-9b28-42f6-a70b-6d49c4abbd12",
   "metadata": {},
   "source": [
    "As we can see, none of the values for ambient temperature are classified as outliers. Let's move onto ambient pressure. As we can see from the plots and the outlier check, there is nothing out of the ordinary here. "
   ]
  },
  {
   "cell_type": "code",
   "execution_count": 27,
   "id": "77626a36-d4be-4a2e-99d6-a481fcfd6855",
   "metadata": {
    "tags": []
   },
   "outputs": [
    {
     "name": "stdout",
     "output_type": "stream",
     "text": [
      "19.88424265351374\n",
      "20.115771837155844\n"
     ]
    }
   ],
   "source": [
    "too_low = samp['ambient_temperature'].mean() - 2 * samp['ambient_temperature'].std()\n",
    "print(too_low)\n",
    "too_high = samp['ambient_temperature'].mean() + 2 * samp['ambient_temperature'].std()\n",
    "print(too_high)"
   ]
  },
  {
   "cell_type": "code",
   "execution_count": 28,
   "id": "93f6c8ff-f455-4d49-8fd3-40c7e7e6a8cb",
   "metadata": {
    "tags": []
   },
   "outputs": [
    {
     "name": "stdout",
     "output_type": "stream",
     "text": [
      "0.0% is too low (less than -2 standard deviations from the mean)\n",
      "0.0% is too high (more than 2 standard deviations from the mean)\n"
     ]
    }
   ],
   "source": [
    "print(str(np.round(len(samp[samp['ambient_temperature'] <  too_low]) / len(samp) * 100, 2)) + '% is too low (less than -2 standard deviations from the mean)')\n",
    "print(str(np.round(len(samp[samp['ambient_temperature'] > too_high]) / len(samp) * 100, 2)) + '% is too high (more than 2 standard deviations from the mean)')"
   ]
  },
  {
   "cell_type": "code",
   "execution_count": 29,
   "id": "9290bc7f-9aeb-4592-808c-c6388c0ec3b3",
   "metadata": {
    "tags": []
   },
   "outputs": [
    {
     "data": {
      "text/plain": [
       "Text(0, 0.5, 'Frequency')"
      ]
     },
     "execution_count": 29,
     "metadata": {},
     "output_type": "execute_result"
    },
    {
     "data": {
      "image/png": "[encoded data removed]",
      "text/plain": [
       "<Figure size 640x480 with 1 Axes>"
      ]
     },
     "metadata": {},
     "output_type": "display_data"
    }
   ],
   "source": [
    "samp['ambient_pressure'].hist(color='purple')\n",
    "plt.title('Machine Ambient Temperature Distribution')\n",
    "plt.xlabel('Ambient Pressure (kPa)')\n",
    "plt.ylabel('Frequency')"
   ]
  },
  {
   "cell_type": "code",
   "execution_count": 30,
   "id": "8fe4ca19-4c00-4647-bcc7-d22ff11961e7",
   "metadata": {
    "tags": []
   },
   "outputs": [
    {
     "name": "stdout",
     "output_type": "stream",
     "text": [
      "100.88423000231094\n",
      "101.11575110217666\n"
     ]
    }
   ],
   "source": [
    "too_low = samp['ambient_pressure'].mean() - 2 * samp['ambient_pressure'].std()\n",
    "print(too_low)\n",
    "too_high = samp['ambient_pressure'].mean() + 2 * samp['ambient_pressure'].std()\n",
    "print(too_high)"
   ]
  },
  {
   "cell_type": "code",
   "execution_count": 31,
   "id": "934535c1-93d2-4a52-8e78-193533689f1f",
   "metadata": {
    "tags": []
   },
   "outputs": [
    {
     "name": "stdout",
     "output_type": "stream",
     "text": [
      "0.0% is too low (less than -2 standard deviations from the mean)\n",
      "0.0% is too high (more than 2 standard deviations from the mean)\n"
     ]
    }
   ],
   "source": [
    "print(str(np.round(len(samp[samp['ambient_pressure'] <  too_low]) / len(samp) * 100, 2)) + '% is too low (less than -2 standard deviations from the mean)')\n",
    "print(str(np.round(len(samp[samp['ambient_pressure'] > too_high]) / len(samp) * 100, 2)) + '% is too high (more than 2 standard deviations from the mean)')"
   ]
  },
  {
   "cell_type": "markdown",
   "id": "b3bec264-c6b8-4556-9198-6d4586f4ae17",
   "metadata": {},
   "source": [
    "So, the criteria that I'll use for evaluating risk in machine health is as below:\n",
    "- Speed Difference\n",
    "    - Over 232 RPM -> Risk\n",
    "    - Over 400 RPM -> Slightly Higher Risk\n",
    "    - Over 500 RPM -> Higher Risk\n",
    "    - Over 600 RPM -> Highest Risk\n",
    "- Temperature\n",
    "    - Over 150 Degrees (F) -> Risk\n",
    "    - Over 175 Degrees (F) -> Higher Risk\n",
    "    - Over 200 Degrees (F) -> Highest Risk\n",
    "- Pressure\n",
    "    - Below 482 kPa\n",
    "    - Above 2114 kPa"
   ]
  },
  {
   "cell_type": "code",
   "execution_count": 32,
   "id": "9cfd4ce1-820d-4a01-b2fa-4fa841e8e8b6",
   "metadata": {
    "tags": []
   },
   "outputs": [],
   "source": [
    "final_df = samp.drop(['speed_desired', 'ambient_temperature', 'ambient_pressure'], axis=1)"
   ]
  },
  {
   "cell_type": "code",
   "execution_count": 33,
   "id": "ddba4eb2-701d-4296-870b-6f807510e7c0",
   "metadata": {
    "tags": []
   },
   "outputs": [
    {
     "data": {
      "text/html": [
       "<div>\n",
       "<style scoped>\n",
       "    .dataframe tbody tr th:only-of-type {\n",
       "        vertical-align: middle;\n",
       "    }\n",
       "\n",
       "    .dataframe tbody tr th {\n",
       "        vertical-align: top;\n",
       "    }\n",
       "\n",
       "    .dataframe thead th {\n",
       "        text-align: right;\n",
       "    }\n",
       "</style>\n",
       "<table border=\"1\" class=\"dataframe\">\n",
       "  <thead>\n",
       "    <tr style=\"text-align: right;\">\n",
       "      <th></th>\n",
       "      <th>timestamp</th>\n",
       "      <th>speed</th>\n",
       "      <th>temperature</th>\n",
       "      <th>pressure</th>\n",
       "      <th>machineid</th>\n",
       "      <th>Speed Difference</th>\n",
       "    </tr>\n",
       "  </thead>\n",
       "  <tbody>\n",
       "    <tr>\n",
       "      <th>0</th>\n",
       "      <td>2021-11-26 09:22:13</td>\n",
       "      <td>1137.79</td>\n",
       "      <td>136.64</td>\n",
       "      <td>1536.45</td>\n",
       "      <td>M_0001</td>\n",
       "      <td>137.79</td>\n",
       "    </tr>\n",
       "    <tr>\n",
       "      <th>1</th>\n",
       "      <td>2021-11-26 09:22:15</td>\n",
       "      <td>1143.92</td>\n",
       "      <td>136.76</td>\n",
       "      <td>1532.18</td>\n",
       "      <td>M_0001</td>\n",
       "      <td>143.92</td>\n",
       "    </tr>\n",
       "    <tr>\n",
       "      <th>2</th>\n",
       "      <td>2021-11-26 09:22:15</td>\n",
       "      <td>1332.02</td>\n",
       "      <td>137.10</td>\n",
       "      <td>1895.93</td>\n",
       "      <td>M_0002</td>\n",
       "      <td>332.02</td>\n",
       "    </tr>\n",
       "    <tr>\n",
       "      <th>3</th>\n",
       "      <td>2021-11-26 09:22:17</td>\n",
       "      <td>1335.17</td>\n",
       "      <td>137.09</td>\n",
       "      <td>1896.63</td>\n",
       "      <td>M_0002</td>\n",
       "      <td>335.17</td>\n",
       "    </tr>\n",
       "    <tr>\n",
       "      <th>4</th>\n",
       "      <td>2021-11-26 09:22:17</td>\n",
       "      <td>1136.33</td>\n",
       "      <td>136.71</td>\n",
       "      <td>1544.43</td>\n",
       "      <td>M_0001</td>\n",
       "      <td>136.33</td>\n",
       "    </tr>\n",
       "    <tr>\n",
       "      <th>...</th>\n",
       "      <td>...</td>\n",
       "      <td>...</td>\n",
       "      <td>...</td>\n",
       "      <td>...</td>\n",
       "      <td>...</td>\n",
       "      <td>...</td>\n",
       "    </tr>\n",
       "    <tr>\n",
       "      <th>6488308</th>\n",
       "      <td>2023-10-14 06:12:56</td>\n",
       "      <td>1207.77</td>\n",
       "      <td>138.70</td>\n",
       "      <td>1582.55</td>\n",
       "      <td>M_0009</td>\n",
       "      <td>207.77</td>\n",
       "    </tr>\n",
       "    <tr>\n",
       "      <th>6488309</th>\n",
       "      <td>2023-10-14 06:12:59</td>\n",
       "      <td>1208.77</td>\n",
       "      <td>138.63</td>\n",
       "      <td>1607.23</td>\n",
       "      <td>M_0009</td>\n",
       "      <td>208.77</td>\n",
       "    </tr>\n",
       "    <tr>\n",
       "      <th>6488310</th>\n",
       "      <td>2023-10-14 06:13:01</td>\n",
       "      <td>1208.97</td>\n",
       "      <td>138.62</td>\n",
       "      <td>1616.42</td>\n",
       "      <td>M_0009</td>\n",
       "      <td>208.97</td>\n",
       "    </tr>\n",
       "    <tr>\n",
       "      <th>6488311</th>\n",
       "      <td>2023-10-14 06:13:05</td>\n",
       "      <td>1097.65</td>\n",
       "      <td>137.10</td>\n",
       "      <td>1318.53</td>\n",
       "      <td>M_0024</td>\n",
       "      <td>97.65</td>\n",
       "    </tr>\n",
       "    <tr>\n",
       "      <th>6488312</th>\n",
       "      <td>2023-10-14 06:13:05</td>\n",
       "      <td>1208.90</td>\n",
       "      <td>138.80</td>\n",
       "      <td>1614.09</td>\n",
       "      <td>M_0009</td>\n",
       "      <td>208.9</td>\n",
       "    </tr>\n",
       "  </tbody>\n",
       "</table>\n",
       "<p>6488313 rows × 6 columns</p>\n",
       "</div>"
      ],
      "text/plain": [
       "                  timestamp    speed  temperature  pressure machineid  \\\n",
       "0       2021-11-26 09:22:13  1137.79       136.64   1536.45    M_0001   \n",
       "1       2021-11-26 09:22:15  1143.92       136.76   1532.18    M_0001   \n",
       "2       2021-11-26 09:22:15  1332.02       137.10   1895.93    M_0002   \n",
       "3       2021-11-26 09:22:17  1335.17       137.09   1896.63    M_0002   \n",
       "4       2021-11-26 09:22:17  1136.33       136.71   1544.43    M_0001   \n",
       "...                     ...      ...          ...       ...       ...   \n",
       "6488308 2023-10-14 06:12:56  1207.77       138.70   1582.55    M_0009   \n",
       "6488309 2023-10-14 06:12:59  1208.77       138.63   1607.23    M_0009   \n",
       "6488310 2023-10-14 06:13:01  1208.97       138.62   1616.42    M_0009   \n",
       "6488311 2023-10-14 06:13:05  1097.65       137.10   1318.53    M_0024   \n",
       "6488312 2023-10-14 06:13:05  1208.90       138.80   1614.09    M_0009   \n",
       "\n",
       "         Speed Difference  \n",
       "0                  137.79  \n",
       "1                  143.92  \n",
       "2                  332.02  \n",
       "3                  335.17  \n",
       "4                  136.33  \n",
       "...                   ...  \n",
       "6488308            207.77  \n",
       "6488309            208.77  \n",
       "6488310            208.97  \n",
       "6488311             97.65  \n",
       "6488312             208.9  \n",
       "\n",
       "[6488313 rows x 6 columns]"
      ]
     },
     "execution_count": 33,
     "metadata": {},
     "output_type": "execute_result"
    }
   ],
   "source": [
    "final_df"
   ]
  },
  {
   "cell_type": "code",
   "execution_count": 34,
   "id": "f63eb67d-99a0-4576-8ba3-1b6a8faaf28e",
   "metadata": {
    "tags": []
   },
   "outputs": [
    {
     "data": {
      "text/plain": [
       "{'paths': ['s3://predictive-maintenance-capstone-sn/data/telemetry_v3/3d787eb3c4bd482d8bce673db0e4564d.snappy.parquet'],\n",
       " 'partitions_values': {}}"
      ]
     },
     "execution_count": 34,
     "metadata": {},
     "output_type": "execute_result"
    }
   ],
   "source": [
    "wr.s3.to_parquet(\n",
    "    dataset=True,\n",
    "    df=final_df,\n",
    "    database='capstone_v3',\n",
    "    path=\"s3://predictive-maintenance-capstone-sn/data/telemetry_v3/\",\n",
    "    table='telemetry_extended_v3')"
   ]
  },
  {
   "cell_type": "code",
   "execution_count": 35,
   "id": "93fed267-f933-433e-8112-929783083e2b",
   "metadata": {
    "tags": []
   },
   "outputs": [
    {
     "data": {
      "text/html": [
       "<div>\n",
       "<style scoped>\n",
       "    .dataframe tbody tr th:only-of-type {\n",
       "        vertical-align: middle;\n",
       "    }\n",
       "\n",
       "    .dataframe tbody tr th {\n",
       "        vertical-align: top;\n",
       "    }\n",
       "\n",
       "    .dataframe thead th {\n",
       "        text-align: right;\n",
       "    }\n",
       "</style>\n",
       "<table border=\"1\" class=\"dataframe\">\n",
       "  <thead>\n",
       "    <tr style=\"text-align: right;\">\n",
       "      <th></th>\n",
       "      <th>timestamp</th>\n",
       "      <th>speed</th>\n",
       "      <th>temperature</th>\n",
       "      <th>pressure</th>\n",
       "      <th>machineid</th>\n",
       "      <th>Speed Difference</th>\n",
       "    </tr>\n",
       "  </thead>\n",
       "  <tbody>\n",
       "    <tr>\n",
       "      <th>0</th>\n",
       "      <td>2021-11-26 09:22:13</td>\n",
       "      <td>1137.79</td>\n",
       "      <td>136.64</td>\n",
       "      <td>1536.45</td>\n",
       "      <td>M_0001</td>\n",
       "      <td>137.79</td>\n",
       "    </tr>\n",
       "    <tr>\n",
       "      <th>1</th>\n",
       "      <td>2021-11-26 09:22:15</td>\n",
       "      <td>1143.92</td>\n",
       "      <td>136.76</td>\n",
       "      <td>1532.18</td>\n",
       "      <td>M_0001</td>\n",
       "      <td>143.92</td>\n",
       "    </tr>\n",
       "    <tr>\n",
       "      <th>2</th>\n",
       "      <td>2021-11-26 09:22:15</td>\n",
       "      <td>1332.02</td>\n",
       "      <td>137.10</td>\n",
       "      <td>1895.93</td>\n",
       "      <td>M_0002</td>\n",
       "      <td>332.02</td>\n",
       "    </tr>\n",
       "    <tr>\n",
       "      <th>3</th>\n",
       "      <td>2021-11-26 09:22:17</td>\n",
       "      <td>1335.17</td>\n",
       "      <td>137.09</td>\n",
       "      <td>1896.63</td>\n",
       "      <td>M_0002</td>\n",
       "      <td>335.17</td>\n",
       "    </tr>\n",
       "    <tr>\n",
       "      <th>4</th>\n",
       "      <td>2021-11-26 09:22:17</td>\n",
       "      <td>1136.33</td>\n",
       "      <td>136.71</td>\n",
       "      <td>1544.43</td>\n",
       "      <td>M_0001</td>\n",
       "      <td>136.33</td>\n",
       "    </tr>\n",
       "    <tr>\n",
       "      <th>...</th>\n",
       "      <td>...</td>\n",
       "      <td>...</td>\n",
       "      <td>...</td>\n",
       "      <td>...</td>\n",
       "      <td>...</td>\n",
       "      <td>...</td>\n",
       "    </tr>\n",
       "    <tr>\n",
       "      <th>6488308</th>\n",
       "      <td>2023-10-14 06:12:56</td>\n",
       "      <td>1207.77</td>\n",
       "      <td>138.70</td>\n",
       "      <td>1582.55</td>\n",
       "      <td>M_0009</td>\n",
       "      <td>207.77</td>\n",
       "    </tr>\n",
       "    <tr>\n",
       "      <th>6488309</th>\n",
       "      <td>2023-10-14 06:12:59</td>\n",
       "      <td>1208.77</td>\n",
       "      <td>138.63</td>\n",
       "      <td>1607.23</td>\n",
       "      <td>M_0009</td>\n",
       "      <td>208.77</td>\n",
       "    </tr>\n",
       "    <tr>\n",
       "      <th>6488310</th>\n",
       "      <td>2023-10-14 06:13:01</td>\n",
       "      <td>1208.97</td>\n",
       "      <td>138.62</td>\n",
       "      <td>1616.42</td>\n",
       "      <td>M_0009</td>\n",
       "      <td>208.97</td>\n",
       "    </tr>\n",
       "    <tr>\n",
       "      <th>6488311</th>\n",
       "      <td>2023-10-14 06:13:05</td>\n",
       "      <td>1097.65</td>\n",
       "      <td>137.10</td>\n",
       "      <td>1318.53</td>\n",
       "      <td>M_0024</td>\n",
       "      <td>97.65</td>\n",
       "    </tr>\n",
       "    <tr>\n",
       "      <th>6488312</th>\n",
       "      <td>2023-10-14 06:13:05</td>\n",
       "      <td>1208.90</td>\n",
       "      <td>138.80</td>\n",
       "      <td>1614.09</td>\n",
       "      <td>M_0009</td>\n",
       "      <td>208.9</td>\n",
       "    </tr>\n",
       "  </tbody>\n",
       "</table>\n",
       "<p>6488313 rows × 6 columns</p>\n",
       "</div>"
      ],
      "text/plain": [
       "                  timestamp    speed  temperature  pressure machineid  \\\n",
       "0       2021-11-26 09:22:13  1137.79       136.64   1536.45    M_0001   \n",
       "1       2021-11-26 09:22:15  1143.92       136.76   1532.18    M_0001   \n",
       "2       2021-11-26 09:22:15  1332.02       137.10   1895.93    M_0002   \n",
       "3       2021-11-26 09:22:17  1335.17       137.09   1896.63    M_0002   \n",
       "4       2021-11-26 09:22:17  1136.33       136.71   1544.43    M_0001   \n",
       "...                     ...      ...          ...       ...       ...   \n",
       "6488308 2023-10-14 06:12:56  1207.77       138.70   1582.55    M_0009   \n",
       "6488309 2023-10-14 06:12:59  1208.77       138.63   1607.23    M_0009   \n",
       "6488310 2023-10-14 06:13:01  1208.97       138.62   1616.42    M_0009   \n",
       "6488311 2023-10-14 06:13:05  1097.65       137.10   1318.53    M_0024   \n",
       "6488312 2023-10-14 06:13:05  1208.90       138.80   1614.09    M_0009   \n",
       "\n",
       "         Speed Difference  \n",
       "0                  137.79  \n",
       "1                  143.92  \n",
       "2                  332.02  \n",
       "3                  335.17  \n",
       "4                  136.33  \n",
       "...                   ...  \n",
       "6488308            207.77  \n",
       "6488309            208.77  \n",
       "6488310            208.97  \n",
       "6488311             97.65  \n",
       "6488312             208.9  \n",
       "\n",
       "[6488313 rows x 6 columns]"
      ]
     },
     "execution_count": 35,
     "metadata": {},
     "output_type": "execute_result"
    }
   ],
   "source": [
    "final_df"
   ]
  },
  {
   "cell_type": "code",
   "execution_count": null,
   "id": "286e2cde-43be-4879-8cbb-298baa3b82a4",
   "metadata": {},
   "outputs": [],
   "source": []
  }
 ],
 "metadata": {
  "kernelspec": {
   "display_name": "conda_pytorch_p310",
   "language": "python",
   "name": "conda_pytorch_p310"
  },
  "language_info": {
   "codemirror_mode": {
    "name": "ipython",
    "version": 3
   },
   "file_extension": ".py",
   "mimetype": "text/x-python",
   "name": "python",
   "nbconvert_exporter": "python",
   "pygments_lexer": "ipython3",
   "version": "3.10.13"
  }
 },
 "nbformat": 4,
 "nbformat_minor": 5
}
