{
 "cells": [
  {
   "cell_type": "code",
   "execution_count": 3,
   "id": "c0c84135-f339-4cc3-9f55-f82fa09c9027",
   "metadata": {
    "tags": []
   },
   "outputs": [],
   "source": [
    "!pip install awswrangler --quiet\n",
    "import pandas as pd\n",
    "import numpy as np\n",
    "import boto3\n",
    "import awswrangler as wr\n",
    "import matplotlib.pyplot as plt"
   ]
  },
  {
   "cell_type": "code",
   "execution_count": 4,
   "id": "950784ab-1bae-427a-827c-60d583559cb5",
   "metadata": {
    "tags": []
   },
   "outputs": [],
   "source": [
    "initial_query = 'SELECT * FROM \"capstone_v2\".\"finaltelemetry\" ORDER BY timestamp LIMIT 20000000;'\n",
    "samp = wr.athena.read_sql_query(\n",
    "    sql=initial_query,\n",
    "    database='capstone',\n",
    "    ctas_approach=True)"
   ]
  },
  {
   "cell_type": "code",
   "execution_count": 5,
   "id": "337595f0-4dc1-48d1-b4f8-a0ce9d82d21d",
   "metadata": {
    "tags": []
   },
   "outputs": [
    {
     "data": {
      "text/html": [
       "<div>\n",
       "<style scoped>\n",
       "    .dataframe tbody tr th:only-of-type {\n",
       "        vertical-align: middle;\n",
       "    }\n",
       "\n",
       "    .dataframe tbody tr th {\n",
       "        vertical-align: top;\n",
       "    }\n",
       "\n",
       "    .dataframe thead th {\n",
       "        text-align: right;\n",
       "    }\n",
       "</style>\n",
       "<table border=\"1\" class=\"dataframe\">\n",
       "  <thead>\n",
       "    <tr style=\"text-align: right;\">\n",
       "      <th></th>\n",
       "      <th>timestamp</th>\n",
       "      <th>speed_desired</th>\n",
       "      <th>ambient_temperature</th>\n",
       "      <th>ambient_pressure</th>\n",
       "      <th>speed</th>\n",
       "      <th>temperature</th>\n",
       "      <th>pressure</th>\n",
       "      <th>machineid</th>\n",
       "    </tr>\n",
       "  </thead>\n",
       "  <tbody>\n",
       "    <tr>\n",
       "      <th>0</th>\n",
       "      <td>2021-11-02 00:50:26</td>\n",
       "      <td>1000</td>\n",
       "      <td>19.97</td>\n",
       "      <td>100.90</td>\n",
       "      <td>1130.87</td>\n",
       "      <td>140.50</td>\n",
       "      <td>1401.04</td>\n",
       "      <td>M_0045</td>\n",
       "    </tr>\n",
       "    <tr>\n",
       "      <th>1</th>\n",
       "      <td>2021-11-02 00:50:26</td>\n",
       "      <td>1000</td>\n",
       "      <td>19.94</td>\n",
       "      <td>100.93</td>\n",
       "      <td>1107.15</td>\n",
       "      <td>136.96</td>\n",
       "      <td>1492.14</td>\n",
       "      <td>M_0034</td>\n",
       "    </tr>\n",
       "    <tr>\n",
       "      <th>2</th>\n",
       "      <td>2021-11-02 00:50:26</td>\n",
       "      <td>1000</td>\n",
       "      <td>19.99</td>\n",
       "      <td>100.95</td>\n",
       "      <td>1102.14</td>\n",
       "      <td>135.02</td>\n",
       "      <td>1522.27</td>\n",
       "      <td>M_0038</td>\n",
       "    </tr>\n",
       "    <tr>\n",
       "      <th>3</th>\n",
       "      <td>2021-11-02 00:50:26</td>\n",
       "      <td>1000</td>\n",
       "      <td>19.98</td>\n",
       "      <td>101.04</td>\n",
       "      <td>1103.96</td>\n",
       "      <td>139.04</td>\n",
       "      <td>1395.93</td>\n",
       "      <td>M_0026</td>\n",
       "    </tr>\n",
       "    <tr>\n",
       "      <th>4</th>\n",
       "      <td>2021-11-02 00:50:27</td>\n",
       "      <td>1000</td>\n",
       "      <td>19.91</td>\n",
       "      <td>100.96</td>\n",
       "      <td>1101.29</td>\n",
       "      <td>136.87</td>\n",
       "      <td>1478.01</td>\n",
       "      <td>M_0034</td>\n",
       "    </tr>\n",
       "    <tr>\n",
       "      <th>...</th>\n",
       "      <td>...</td>\n",
       "      <td>...</td>\n",
       "      <td>...</td>\n",
       "      <td>...</td>\n",
       "      <td>...</td>\n",
       "      <td>...</td>\n",
       "      <td>...</td>\n",
       "      <td>...</td>\n",
       "    </tr>\n",
       "    <tr>\n",
       "      <th>19999995</th>\n",
       "      <td>2022-05-04 20:21:23</td>\n",
       "      <td>1000</td>\n",
       "      <td>20.02</td>\n",
       "      <td>100.95</td>\n",
       "      <td>1200.28</td>\n",
       "      <td>146.48</td>\n",
       "      <td>1347.03</td>\n",
       "      <td>M_0010</td>\n",
       "    </tr>\n",
       "    <tr>\n",
       "      <th>19999996</th>\n",
       "      <td>2022-05-04 20:21:23</td>\n",
       "      <td>1000</td>\n",
       "      <td>20.08</td>\n",
       "      <td>100.95</td>\n",
       "      <td>1108.35</td>\n",
       "      <td>146.97</td>\n",
       "      <td>1174.29</td>\n",
       "      <td>M_0003</td>\n",
       "    </tr>\n",
       "    <tr>\n",
       "      <th>19999997</th>\n",
       "      <td>2022-05-04 20:21:23</td>\n",
       "      <td>1000</td>\n",
       "      <td>19.91</td>\n",
       "      <td>100.94</td>\n",
       "      <td>1213.80</td>\n",
       "      <td>137.99</td>\n",
       "      <td>1623.62</td>\n",
       "      <td>M_0018</td>\n",
       "    </tr>\n",
       "    <tr>\n",
       "      <th>19999998</th>\n",
       "      <td>2022-05-04 20:21:24</td>\n",
       "      <td>1000</td>\n",
       "      <td>20.00</td>\n",
       "      <td>100.91</td>\n",
       "      <td>1162.79</td>\n",
       "      <td>142.15</td>\n",
       "      <td>1416.39</td>\n",
       "      <td>M_0031</td>\n",
       "    </tr>\n",
       "    <tr>\n",
       "      <th>19999999</th>\n",
       "      <td>2022-05-04 20:21:24</td>\n",
       "      <td>1000</td>\n",
       "      <td>20.09</td>\n",
       "      <td>100.90</td>\n",
       "      <td>1130.04</td>\n",
       "      <td>139.10</td>\n",
       "      <td>1441.97</td>\n",
       "      <td>M_0021</td>\n",
       "    </tr>\n",
       "  </tbody>\n",
       "</table>\n",
       "<p>20000000 rows × 8 columns</p>\n",
       "</div>"
      ],
      "text/plain": [
       "                   timestamp  speed_desired  ambient_temperature  \\\n",
       "0        2021-11-02 00:50:26           1000                19.97   \n",
       "1        2021-11-02 00:50:26           1000                19.94   \n",
       "2        2021-11-02 00:50:26           1000                19.99   \n",
       "3        2021-11-02 00:50:26           1000                19.98   \n",
       "4        2021-11-02 00:50:27           1000                19.91   \n",
       "...                      ...            ...                  ...   \n",
       "19999995 2022-05-04 20:21:23           1000                20.02   \n",
       "19999996 2022-05-04 20:21:23           1000                20.08   \n",
       "19999997 2022-05-04 20:21:23           1000                19.91   \n",
       "19999998 2022-05-04 20:21:24           1000                20.00   \n",
       "19999999 2022-05-04 20:21:24           1000                20.09   \n",
       "\n",
       "          ambient_pressure    speed  temperature  pressure machineid  \n",
       "0                   100.90  1130.87       140.50   1401.04    M_0045  \n",
       "1                   100.93  1107.15       136.96   1492.14    M_0034  \n",
       "2                   100.95  1102.14       135.02   1522.27    M_0038  \n",
       "3                   101.04  1103.96       139.04   1395.93    M_0026  \n",
       "4                   100.96  1101.29       136.87   1478.01    M_0034  \n",
       "...                    ...      ...          ...       ...       ...  \n",
       "19999995            100.95  1200.28       146.48   1347.03    M_0010  \n",
       "19999996            100.95  1108.35       146.97   1174.29    M_0003  \n",
       "19999997            100.94  1213.80       137.99   1623.62    M_0018  \n",
       "19999998            100.91  1162.79       142.15   1416.39    M_0031  \n",
       "19999999            100.90  1130.04       139.10   1441.97    M_0021  \n",
       "\n",
       "[20000000 rows x 8 columns]"
      ]
     },
     "execution_count": 5,
     "metadata": {},
     "output_type": "execute_result"
    }
   ],
   "source": [
    "samp"
   ]
  },
  {
   "cell_type": "markdown",
   "id": "91e1a81f-3a8e-45f7-ad17-1930c3973ac8",
   "metadata": {},
   "source": [
    "We can see here, that we have 1000 unique machines. That's a lot of data coming in from each sensor. Keep in mind that this is only 1,500,000 of the records from the full dataset. The total number of records is over 13,000,000."
   ]
  },
  {
   "cell_type": "code",
   "execution_count": 6,
   "id": "b3d18bce-e3ea-4719-acde-b0ec75dd559c",
   "metadata": {
    "tags": []
   },
   "outputs": [
    {
     "name": "stdout",
     "output_type": "stream",
     "text": [
      "50\n"
     ]
    }
   ],
   "source": [
    "print(len(samp['machineid'].unique()))"
   ]
  },
  {
   "cell_type": "markdown",
   "id": "52303cd6-51d1-4026-adc2-67504cf2085f",
   "metadata": {},
   "source": [
    "### Exploring Speed"
   ]
  },
  {
   "cell_type": "markdown",
   "id": "0a8e5a8c-3ce8-4afe-81cb-d0d52fbeb442",
   "metadata": {},
   "source": [
    "First, I want to explore the speed_desired field. For some records, it's 1000, and the rest is 0."
   ]
  },
  {
   "cell_type": "code",
   "execution_count": 7,
   "id": "d4a20d6a-0e35-4772-ac81-15ea211e4429",
   "metadata": {
    "tags": []
   },
   "outputs": [
    {
     "data": {
      "text/plain": [
       "Text(0.5, 1.0, 'Distribution of Values for Desired Machine Speed')"
      ]
     },
     "execution_count": 7,
     "metadata": {},
     "output_type": "execute_result"
    },
    {
     "data": {
      "image/png": "[encoded data removed]",
      "text/plain": [
       "<Figure size 640x480 with 1 Axes>"
      ]
     },
     "metadata": {},
     "output_type": "display_data"
    }
   ],
   "source": [
    "samp['speed_desired'].hist()\n",
    "plt.title('Distribution of Values for Desired Machine Speed')"
   ]
  },
  {
   "cell_type": "code",
   "execution_count": 8,
   "id": "671b37d4-66ea-470d-ba68-4a4076faafcc",
   "metadata": {
    "tags": []
   },
   "outputs": [],
   "source": [
    "not1000 = samp[samp['speed_desired'] != 1000]"
   ]
  },
  {
   "cell_type": "code",
   "execution_count": 9,
   "id": "a1d63918-5e6a-4c08-90f1-e119d7bd9f27",
   "metadata": {
    "tags": []
   },
   "outputs": [],
   "source": [
    "not1000.set_index('timestamp', inplace=True)"
   ]
  },
  {
   "cell_type": "markdown",
   "id": "3feafb59-e97b-4e26-8483-984c3e3812eb",
   "metadata": {},
   "source": [
    "Here, I'm looking at the values for the actual speed vs. the desired speed and how it differs. For every machine I checked, there appears to be a common pattern. I assume the spikes are during uptime while the lulls are during machine downtime."
   ]
  },
  {
   "cell_type": "code",
   "execution_count": 10,
   "id": "656d22e1-216b-410f-9abd-d1ce67313b4a",
   "metadata": {
    "tags": []
   },
   "outputs": [
    {
     "data": {
      "text/plain": [
       "<matplotlib.legend.Legend at 0x7fe2770c10c0>"
      ]
     },
     "execution_count": 10,
     "metadata": {},
     "output_type": "execute_result"
    },
    {
     "data": {
      "image/png": "[encoded data removed]",
      "text/plain": [
       "<Figure size 640x480 with 1 Axes>"
      ]
     },
     "metadata": {},
     "output_type": "display_data"
    }
   ],
   "source": [
    "m15 = not1000[not1000['machineid'] == 'M_0015']\n",
    "m15['speed_desired'].plot(label='Desired Speed', color='blue')\n",
    "m15['speed'].plot(label='Speed', color='orange')\n",
    "\n",
    "plt.title('Machine 15 Desired Speed vs. Actual')\n",
    "plt.xlabel('Time')\n",
    "plt.ylabel('Speed (RPM)')\n",
    "plt.legend()"
   ]
  },
  {
   "cell_type": "markdown",
   "id": "27268a87-5aac-4dda-87bf-1d8bdc412317",
   "metadata": {},
   "source": [
    "Below, looking at when the desired speed is 1000 for the same machine, it looks to be a similar pattern but inverted. The lulls appear to be downtime for the machine."
   ]
  },
  {
   "cell_type": "code",
   "execution_count": 11,
   "id": "a6490fd0-4a6f-4deb-a016-0898543f8c0f",
   "metadata": {
    "tags": []
   },
   "outputs": [
    {
     "data": {
      "text/plain": [
       "<matplotlib.legend.Legend at 0x7fe442413010>"
      ]
     },
     "execution_count": 11,
     "metadata": {},
     "output_type": "execute_result"
    },
    {
     "data": {
      "image/png": "[encoded data removed]",
      "text/plain": [
       "<Figure size 640x480 with 1 Axes>"
      ]
     },
     "metadata": {},
     "output_type": "display_data"
    }
   ],
   "source": [
    "not0 = samp[samp['speed_desired'] != 0]\n",
    "not0.set_index('timestamp', inplace=True)\n",
    "\n",
    "m15_0 = not0[not0['machineid'] == 'M_0015']\n",
    "m15_0['speed_desired'].plot(label='Desired Speed', color='blue')\n",
    "m15_0['speed'].plot(label='Speed', color='orange')\n",
    "\n",
    "plt.title('Machine 15 Desired Speed vs. Actual')\n",
    "plt.xlabel('Datetime')\n",
    "plt.ylabel('Speed RPM')\n",
    "plt.legend()"
   ]
  },
  {
   "cell_type": "markdown",
   "id": "17a6c74d-9427-4a79-8546-d0dff5eb9c39",
   "metadata": {},
   "source": [
    "Now, I'm going to check out the distributions for speeds to see if there's any noticeable outliers"
   ]
  },
  {
   "cell_type": "code",
   "execution_count": 12,
   "id": "8c8c9337-23ca-41f2-b7e5-8939abe36c5b",
   "metadata": {
    "tags": []
   },
   "outputs": [
    {
     "data": {
      "text/plain": [
       "Text(0, 0.5, 'Frequency')"
      ]
     },
     "execution_count": 12,
     "metadata": {},
     "output_type": "execute_result"
    },
    {
     "data": {
      "image/png": "[encoded data removed]",
      "text/plain": [
       "<Figure size 640x480 with 1 Axes>"
      ]
     },
     "metadata": {},
     "output_type": "display_data"
    }
   ],
   "source": [
    "from matplotlib import cm\n",
    "\n",
    "samp['speed'].hist()\n",
    "plt.title('Machine Speed Distributions')\n",
    "plt.xlabel('Speeds')\n",
    "plt.ylabel('Frequency')"
   ]
  },
  {
   "cell_type": "markdown",
   "id": "2f99de98-b1ca-4ed3-87a0-62aaca126b81",
   "metadata": {},
   "source": [
    "It appears that just over 10% of values fall 2 standard deviations away from the mean. Initially, looking into the instances of machines with speed under 325 RPM seemed to be a good approach for checking for potential issues. However, upon further research, negative or low RPM's aren't necessarily uncommon in industrial settings. It could just be one of the following reasons: underloaded or slow operation, error in measurement, or misinterpretation of data. These cases would require tuning/fixing the sensors."
   ]
  },
  {
   "cell_type": "code",
   "execution_count": 13,
   "id": "29ec9643-1787-46ca-9da2-ef5b990be4e5",
   "metadata": {
    "tags": []
   },
   "outputs": [
    {
     "name": "stdout",
     "output_type": "stream",
     "text": [
      "323.35296751930673\n",
      "10.48%\n"
     ]
    }
   ],
   "source": [
    "too_low = samp['speed'].mean() - 2 * samp['speed'].std()\n",
    "print(too_low)\n",
    "filtered = samp[samp['speed'] < too_low]\n",
    "\n",
    "print(str(np.round(len(filtered) / len(samp['speed']) * 100, 2)) + '%')"
   ]
  },
  {
   "cell_type": "markdown",
   "id": "a0490ab4-809f-4b25-ac4c-0269abd12c43",
   "metadata": {},
   "source": [
    "But, I am still curious about the desired speed metric versus the actual speeed metric. What if some differences are abnormally high? So, the average differences in speed between the desired and actual appear to be around 130. Looking 1.5 standard deviations away from the mean, we have a difference of 232. These could be potential issues to check out for these machines posting these differences"
   ]
  },
  {
   "cell_type": "code",
   "execution_count": 14,
   "id": "7712da36-d0fb-4563-9e00-8277f2cdf5c0",
   "metadata": {
    "tags": []
   },
   "outputs": [
    {
     "name": "stdout",
     "output_type": "stream",
     "text": [
      "5.84%\n"
     ]
    }
   ],
   "source": [
    "samp['Speed Difference'] = abs(samp['speed_desired'] - samp['speed'])\n",
    "too_high = samp['Speed Difference'].mean() + 1.5 * samp['Speed Difference'].std()\n",
    "print(str(np.round(len(samp[samp['Speed Difference'] > too_high]) / len(samp) * 100, 2)) + '%')"
   ]
  },
  {
   "cell_type": "code",
   "execution_count": 15,
   "id": "4916cfb7-a7e2-47e5-bd0f-559b429c88ea",
   "metadata": {
    "tags": []
   },
   "outputs": [
    {
     "data": {
      "text/plain": [
       "Text(0, 0.5, 'Frequency')"
      ]
     },
     "execution_count": 15,
     "metadata": {},
     "output_type": "execute_result"
    },
    {
     "data": {
      "image/png": "[encoded data removed]",
      "text/plain": [
       "<Figure size 640x480 with 1 Axes>"
      ]
     },
     "metadata": {},
     "output_type": "display_data"
    }
   ],
   "source": [
    "samp['Speed Difference'].hist()\n",
    "plt.title('Machine Speed Difference Distributions')\n",
    "plt.xlabel('Speed Difference')\n",
    "plt.ylabel('Frequency')"
   ]
  },
  {
   "cell_type": "markdown",
   "id": "b451e453-0aec-40a5-8799-84b0096ba6a9",
   "metadata": {},
   "source": [
    "From looking into speed, one of the criteria for evaluating risk will be the difference between the desired and the actual speed. More specifically, if the speed difference is over 230, then the records will be marked as having more risk for failure."
   ]
  },
  {
   "cell_type": "code",
   "execution_count": 16,
   "id": "4a811173-5ce8-4680-8352-1d574ac8eccb",
   "metadata": {
    "tags": []
   },
   "outputs": [
    {
     "name": "stdout",
     "output_type": "stream",
     "text": [
      "1681304\n",
      "310965\n",
      "127759\n",
      "9011\n"
     ]
    }
   ],
   "source": [
    "print(len(samp[samp['Speed Difference'] > 232]))\n",
    "print(len(samp[samp['Speed Difference'] > 400]))\n",
    "print(len(samp[samp['Speed Difference'] > 530]))\n",
    "print(len(samp[samp['Speed Difference'] > 630]))"
   ]
  },
  {
   "cell_type": "markdown",
   "id": "ed332ef6-53d0-44c3-a1fb-f0e6916d9556",
   "metadata": {},
   "source": [
    "### Temperature"
   ]
  },
  {
   "cell_type": "markdown",
   "id": "6d1bf6cf-7bd2-41ea-b2a1-e7cddd90eacb",
   "metadata": {},
   "source": [
    "Now, let's look at the machine temperature (measured in Fahrenheit). Looking at the histogram, it doesn't look like there's any outliers on the lower end, but there seems to be some outliers on the higher end. High temperatures could be potentially dangerous for machines, endangering not only the factory but also people. Let's look more into the outliers."
   ]
  },
  {
   "cell_type": "code",
   "execution_count": 17,
   "id": "7c03b7a7-c520-4415-b926-318f5f217253",
   "metadata": {
    "tags": []
   },
   "outputs": [
    {
     "data": {
      "text/plain": [
       "Text(0.5, 1.0, 'Machine Temperatures')"
      ]
     },
     "execution_count": 17,
     "metadata": {},
     "output_type": "execute_result"
    },
    {
     "data": {
      "image/png": "[encoded data removed]",
      "text/plain": [
       "<Figure size 640x480 with 1 Axes>"
      ]
     },
     "metadata": {},
     "output_type": "display_data"
    }
   ],
   "source": [
    "samp['temperature'].hist(color='red')\n",
    "plt.title('Machine Temperatures')"
   ]
  },
  {
   "cell_type": "code",
   "execution_count": 18,
   "id": "68a08f0d-115f-4d56-bf0e-cf732c7a9a87",
   "metadata": {
    "tags": []
   },
   "outputs": [
    {
     "name": "stdout",
     "output_type": "stream",
     "text": [
      "127.77260243870519\n",
      "158.3011375162951\n"
     ]
    }
   ],
   "source": [
    "too_low = samp['temperature'].mean() - 2 * samp['temperature'].std()\n",
    "print(too_low)\n",
    "too_high = samp['temperature'].mean() + 2 * samp['temperature'].std()\n",
    "print(too_high)"
   ]
  },
  {
   "cell_type": "markdown",
   "id": "2605c24a-197e-4396-b391-af2b195928a8",
   "metadata": {},
   "source": [
    "What risks could low temperatures pose? It's not immediately clear, so I won't consider low outliers for risk calculation. If a machine's temperature is too high at any point in time, I will flag it with a higher risk score. "
   ]
  },
  {
   "cell_type": "code",
   "execution_count": 19,
   "id": "e62a7387-8260-4443-b8f3-b65f65662dca",
   "metadata": {
    "tags": []
   },
   "outputs": [
    {
     "name": "stdout",
     "output_type": "stream",
     "text": [
      "0.0027949999999999997% is too low (less than -2 standard deviations from the mean)\n",
      "4.82% is too high (more than 2 standard deviations from the mean)\n"
     ]
    }
   ],
   "source": [
    "print(str(len(samp[samp['temperature'] < too_low]) / len(samp) * 100) + '% is too low (less than -2 standard deviations from the mean)')\n",
    "print(str(np.round(len(samp[samp['temperature'] > too_high]) / len(samp) * 100, 2)) + '% is too high (more than 2 standard deviations from the mean)')"
   ]
  },
  {
   "cell_type": "code",
   "execution_count": 20,
   "id": "7e50f8af-5da4-4431-a0e3-99f2c9bb5555",
   "metadata": {
    "tags": []
   },
   "outputs": [
    {
     "data": {
      "text/html": [
       "<div>\n",
       "<style scoped>\n",
       "    .dataframe tbody tr th:only-of-type {\n",
       "        vertical-align: middle;\n",
       "    }\n",
       "\n",
       "    .dataframe tbody tr th {\n",
       "        vertical-align: top;\n",
       "    }\n",
       "\n",
       "    .dataframe thead th {\n",
       "        text-align: right;\n",
       "    }\n",
       "</style>\n",
       "<table border=\"1\" class=\"dataframe\">\n",
       "  <thead>\n",
       "    <tr style=\"text-align: right;\">\n",
       "      <th></th>\n",
       "      <th>timestamp</th>\n",
       "      <th>speed_desired</th>\n",
       "      <th>ambient_temperature</th>\n",
       "      <th>ambient_pressure</th>\n",
       "      <th>speed</th>\n",
       "      <th>temperature</th>\n",
       "      <th>pressure</th>\n",
       "      <th>machineid</th>\n",
       "      <th>Speed Difference</th>\n",
       "    </tr>\n",
       "  </thead>\n",
       "  <tbody>\n",
       "    <tr>\n",
       "      <th>21061</th>\n",
       "      <td>2021-11-06 02:13:36</td>\n",
       "      <td>1000</td>\n",
       "      <td>19.91</td>\n",
       "      <td>100.93</td>\n",
       "      <td>1123.79</td>\n",
       "      <td>200.51</td>\n",
       "      <td>305.21</td>\n",
       "      <td>M_0019</td>\n",
       "      <td>123.79</td>\n",
       "    </tr>\n",
       "    <tr>\n",
       "      <th>21063</th>\n",
       "      <td>2021-11-06 02:13:37</td>\n",
       "      <td>1000</td>\n",
       "      <td>20.10</td>\n",
       "      <td>100.96</td>\n",
       "      <td>1128.48</td>\n",
       "      <td>201.34</td>\n",
       "      <td>334.20</td>\n",
       "      <td>M_0019</td>\n",
       "      <td>128.48</td>\n",
       "    </tr>\n",
       "    <tr>\n",
       "      <th>21066</th>\n",
       "      <td>2021-11-06 02:13:38</td>\n",
       "      <td>1000</td>\n",
       "      <td>20.09</td>\n",
       "      <td>101.08</td>\n",
       "      <td>1127.70</td>\n",
       "      <td>202.13</td>\n",
       "      <td>300.08</td>\n",
       "      <td>M_0019</td>\n",
       "      <td>127.7</td>\n",
       "    </tr>\n",
       "    <tr>\n",
       "      <th>21068</th>\n",
       "      <td>2021-11-06 02:13:39</td>\n",
       "      <td>1000</td>\n",
       "      <td>20.01</td>\n",
       "      <td>101.06</td>\n",
       "      <td>1123.89</td>\n",
       "      <td>203.05</td>\n",
       "      <td>310.82</td>\n",
       "      <td>M_0019</td>\n",
       "      <td>123.89</td>\n",
       "    </tr>\n",
       "    <tr>\n",
       "      <th>21069</th>\n",
       "      <td>2021-11-06 02:13:40</td>\n",
       "      <td>1000</td>\n",
       "      <td>20.02</td>\n",
       "      <td>101.00</td>\n",
       "      <td>1130.15</td>\n",
       "      <td>204.20</td>\n",
       "      <td>269.96</td>\n",
       "      <td>M_0019</td>\n",
       "      <td>130.15</td>\n",
       "    </tr>\n",
       "    <tr>\n",
       "      <th>...</th>\n",
       "      <td>...</td>\n",
       "      <td>...</td>\n",
       "      <td>...</td>\n",
       "      <td>...</td>\n",
       "      <td>...</td>\n",
       "      <td>...</td>\n",
       "      <td>...</td>\n",
       "      <td>...</td>\n",
       "      <td>...</td>\n",
       "    </tr>\n",
       "    <tr>\n",
       "      <th>19964563</th>\n",
       "      <td>2022-04-26 20:28:39</td>\n",
       "      <td>1000</td>\n",
       "      <td>19.96</td>\n",
       "      <td>100.92</td>\n",
       "      <td>1184.92</td>\n",
       "      <td>205.32</td>\n",
       "      <td>298.01</td>\n",
       "      <td>M_0009</td>\n",
       "      <td>184.92</td>\n",
       "    </tr>\n",
       "    <tr>\n",
       "      <th>19964568</th>\n",
       "      <td>2022-04-26 20:28:40</td>\n",
       "      <td>1000</td>\n",
       "      <td>19.92</td>\n",
       "      <td>101.06</td>\n",
       "      <td>1185.14</td>\n",
       "      <td>206.83</td>\n",
       "      <td>290.44</td>\n",
       "      <td>M_0009</td>\n",
       "      <td>185.14</td>\n",
       "    </tr>\n",
       "    <tr>\n",
       "      <th>19964571</th>\n",
       "      <td>2022-04-26 20:28:41</td>\n",
       "      <td>1000</td>\n",
       "      <td>19.98</td>\n",
       "      <td>100.96</td>\n",
       "      <td>1187.09</td>\n",
       "      <td>208.63</td>\n",
       "      <td>261.41</td>\n",
       "      <td>M_0009</td>\n",
       "      <td>187.09</td>\n",
       "    </tr>\n",
       "    <tr>\n",
       "      <th>19964574</th>\n",
       "      <td>2022-04-26 20:28:42</td>\n",
       "      <td>1000</td>\n",
       "      <td>20.08</td>\n",
       "      <td>100.99</td>\n",
       "      <td>1186.29</td>\n",
       "      <td>210.94</td>\n",
       "      <td>253.22</td>\n",
       "      <td>M_0009</td>\n",
       "      <td>186.29</td>\n",
       "    </tr>\n",
       "    <tr>\n",
       "      <th>19964579</th>\n",
       "      <td>2022-04-26 20:28:43</td>\n",
       "      <td>1000</td>\n",
       "      <td>19.91</td>\n",
       "      <td>100.96</td>\n",
       "      <td>1186.54</td>\n",
       "      <td>214.94</td>\n",
       "      <td>199.30</td>\n",
       "      <td>M_0009</td>\n",
       "      <td>186.54</td>\n",
       "    </tr>\n",
       "  </tbody>\n",
       "</table>\n",
       "<p>5935 rows × 9 columns</p>\n",
       "</div>"
      ],
      "text/plain": [
       "                   timestamp  speed_desired  ambient_temperature  \\\n",
       "21061    2021-11-06 02:13:36           1000                19.91   \n",
       "21063    2021-11-06 02:13:37           1000                20.10   \n",
       "21066    2021-11-06 02:13:38           1000                20.09   \n",
       "21068    2021-11-06 02:13:39           1000                20.01   \n",
       "21069    2021-11-06 02:13:40           1000                20.02   \n",
       "...                      ...            ...                  ...   \n",
       "19964563 2022-04-26 20:28:39           1000                19.96   \n",
       "19964568 2022-04-26 20:28:40           1000                19.92   \n",
       "19964571 2022-04-26 20:28:41           1000                19.98   \n",
       "19964574 2022-04-26 20:28:42           1000                20.08   \n",
       "19964579 2022-04-26 20:28:43           1000                19.91   \n",
       "\n",
       "          ambient_pressure    speed  temperature  pressure machineid  \\\n",
       "21061               100.93  1123.79       200.51    305.21    M_0019   \n",
       "21063               100.96  1128.48       201.34    334.20    M_0019   \n",
       "21066               101.08  1127.70       202.13    300.08    M_0019   \n",
       "21068               101.06  1123.89       203.05    310.82    M_0019   \n",
       "21069               101.00  1130.15       204.20    269.96    M_0019   \n",
       "...                    ...      ...          ...       ...       ...   \n",
       "19964563            100.92  1184.92       205.32    298.01    M_0009   \n",
       "19964568            101.06  1185.14       206.83    290.44    M_0009   \n",
       "19964571            100.96  1187.09       208.63    261.41    M_0009   \n",
       "19964574            100.99  1186.29       210.94    253.22    M_0009   \n",
       "19964579            100.96  1186.54       214.94    199.30    M_0009   \n",
       "\n",
       "          Speed Difference  \n",
       "21061               123.79  \n",
       "21063               128.48  \n",
       "21066                127.7  \n",
       "21068               123.89  \n",
       "21069               130.15  \n",
       "...                    ...  \n",
       "19964563            184.92  \n",
       "19964568            185.14  \n",
       "19964571            187.09  \n",
       "19964574            186.29  \n",
       "19964579            186.54  \n",
       "\n",
       "[5935 rows x 9 columns]"
      ]
     },
     "execution_count": 20,
     "metadata": {},
     "output_type": "execute_result"
    }
   ],
   "source": [
    "samp[samp['temperature'] > 200]"
   ]
  },
  {
   "cell_type": "code",
   "execution_count": 21,
   "id": "0d6417b0-d7b7-438a-ab38-99b6c319c255",
   "metadata": {
    "tags": []
   },
   "outputs": [
    {
     "data": {
      "text/html": [
       "<div>\n",
       "<style scoped>\n",
       "    .dataframe tbody tr th:only-of-type {\n",
       "        vertical-align: middle;\n",
       "    }\n",
       "\n",
       "    .dataframe tbody tr th {\n",
       "        vertical-align: top;\n",
       "    }\n",
       "\n",
       "    .dataframe thead th {\n",
       "        text-align: right;\n",
       "    }\n",
       "</style>\n",
       "<table border=\"1\" class=\"dataframe\">\n",
       "  <thead>\n",
       "    <tr style=\"text-align: right;\">\n",
       "      <th></th>\n",
       "      <th>timestamp</th>\n",
       "      <th>speed_desired</th>\n",
       "      <th>ambient_temperature</th>\n",
       "      <th>ambient_pressure</th>\n",
       "      <th>speed</th>\n",
       "      <th>temperature</th>\n",
       "      <th>pressure</th>\n",
       "      <th>machineid</th>\n",
       "      <th>Speed Difference</th>\n",
       "    </tr>\n",
       "  </thead>\n",
       "  <tbody>\n",
       "    <tr>\n",
       "      <th>21061</th>\n",
       "      <td>2021-11-06 02:13:36</td>\n",
       "      <td>1000</td>\n",
       "      <td>19.91</td>\n",
       "      <td>100.93</td>\n",
       "      <td>1123.79</td>\n",
       "      <td>200.51</td>\n",
       "      <td>305.21</td>\n",
       "      <td>M_0019</td>\n",
       "      <td>123.79</td>\n",
       "    </tr>\n",
       "    <tr>\n",
       "      <th>21063</th>\n",
       "      <td>2021-11-06 02:13:37</td>\n",
       "      <td>1000</td>\n",
       "      <td>20.10</td>\n",
       "      <td>100.96</td>\n",
       "      <td>1128.48</td>\n",
       "      <td>201.34</td>\n",
       "      <td>334.20</td>\n",
       "      <td>M_0019</td>\n",
       "      <td>128.48</td>\n",
       "    </tr>\n",
       "    <tr>\n",
       "      <th>21066</th>\n",
       "      <td>2021-11-06 02:13:38</td>\n",
       "      <td>1000</td>\n",
       "      <td>20.09</td>\n",
       "      <td>101.08</td>\n",
       "      <td>1127.70</td>\n",
       "      <td>202.13</td>\n",
       "      <td>300.08</td>\n",
       "      <td>M_0019</td>\n",
       "      <td>127.7</td>\n",
       "    </tr>\n",
       "    <tr>\n",
       "      <th>21068</th>\n",
       "      <td>2021-11-06 02:13:39</td>\n",
       "      <td>1000</td>\n",
       "      <td>20.01</td>\n",
       "      <td>101.06</td>\n",
       "      <td>1123.89</td>\n",
       "      <td>203.05</td>\n",
       "      <td>310.82</td>\n",
       "      <td>M_0019</td>\n",
       "      <td>123.89</td>\n",
       "    </tr>\n",
       "    <tr>\n",
       "      <th>21069</th>\n",
       "      <td>2021-11-06 02:13:40</td>\n",
       "      <td>1000</td>\n",
       "      <td>20.02</td>\n",
       "      <td>101.00</td>\n",
       "      <td>1130.15</td>\n",
       "      <td>204.20</td>\n",
       "      <td>269.96</td>\n",
       "      <td>M_0019</td>\n",
       "      <td>130.15</td>\n",
       "    </tr>\n",
       "    <tr>\n",
       "      <th>...</th>\n",
       "      <td>...</td>\n",
       "      <td>...</td>\n",
       "      <td>...</td>\n",
       "      <td>...</td>\n",
       "      <td>...</td>\n",
       "      <td>...</td>\n",
       "      <td>...</td>\n",
       "      <td>...</td>\n",
       "      <td>...</td>\n",
       "    </tr>\n",
       "    <tr>\n",
       "      <th>19964563</th>\n",
       "      <td>2022-04-26 20:28:39</td>\n",
       "      <td>1000</td>\n",
       "      <td>19.96</td>\n",
       "      <td>100.92</td>\n",
       "      <td>1184.92</td>\n",
       "      <td>205.32</td>\n",
       "      <td>298.01</td>\n",
       "      <td>M_0009</td>\n",
       "      <td>184.92</td>\n",
       "    </tr>\n",
       "    <tr>\n",
       "      <th>19964568</th>\n",
       "      <td>2022-04-26 20:28:40</td>\n",
       "      <td>1000</td>\n",
       "      <td>19.92</td>\n",
       "      <td>101.06</td>\n",
       "      <td>1185.14</td>\n",
       "      <td>206.83</td>\n",
       "      <td>290.44</td>\n",
       "      <td>M_0009</td>\n",
       "      <td>185.14</td>\n",
       "    </tr>\n",
       "    <tr>\n",
       "      <th>19964571</th>\n",
       "      <td>2022-04-26 20:28:41</td>\n",
       "      <td>1000</td>\n",
       "      <td>19.98</td>\n",
       "      <td>100.96</td>\n",
       "      <td>1187.09</td>\n",
       "      <td>208.63</td>\n",
       "      <td>261.41</td>\n",
       "      <td>M_0009</td>\n",
       "      <td>187.09</td>\n",
       "    </tr>\n",
       "    <tr>\n",
       "      <th>19964574</th>\n",
       "      <td>2022-04-26 20:28:42</td>\n",
       "      <td>1000</td>\n",
       "      <td>20.08</td>\n",
       "      <td>100.99</td>\n",
       "      <td>1186.29</td>\n",
       "      <td>210.94</td>\n",
       "      <td>253.22</td>\n",
       "      <td>M_0009</td>\n",
       "      <td>186.29</td>\n",
       "    </tr>\n",
       "    <tr>\n",
       "      <th>19964579</th>\n",
       "      <td>2022-04-26 20:28:43</td>\n",
       "      <td>1000</td>\n",
       "      <td>19.91</td>\n",
       "      <td>100.96</td>\n",
       "      <td>1186.54</td>\n",
       "      <td>214.94</td>\n",
       "      <td>199.30</td>\n",
       "      <td>M_0009</td>\n",
       "      <td>186.54</td>\n",
       "    </tr>\n",
       "  </tbody>\n",
       "</table>\n",
       "<p>5935 rows × 9 columns</p>\n",
       "</div>"
      ],
      "text/plain": [
       "                   timestamp  speed_desired  ambient_temperature  \\\n",
       "21061    2021-11-06 02:13:36           1000                19.91   \n",
       "21063    2021-11-06 02:13:37           1000                20.10   \n",
       "21066    2021-11-06 02:13:38           1000                20.09   \n",
       "21068    2021-11-06 02:13:39           1000                20.01   \n",
       "21069    2021-11-06 02:13:40           1000                20.02   \n",
       "...                      ...            ...                  ...   \n",
       "19964563 2022-04-26 20:28:39           1000                19.96   \n",
       "19964568 2022-04-26 20:28:40           1000                19.92   \n",
       "19964571 2022-04-26 20:28:41           1000                19.98   \n",
       "19964574 2022-04-26 20:28:42           1000                20.08   \n",
       "19964579 2022-04-26 20:28:43           1000                19.91   \n",
       "\n",
       "          ambient_pressure    speed  temperature  pressure machineid  \\\n",
       "21061               100.93  1123.79       200.51    305.21    M_0019   \n",
       "21063               100.96  1128.48       201.34    334.20    M_0019   \n",
       "21066               101.08  1127.70       202.13    300.08    M_0019   \n",
       "21068               101.06  1123.89       203.05    310.82    M_0019   \n",
       "21069               101.00  1130.15       204.20    269.96    M_0019   \n",
       "...                    ...      ...          ...       ...       ...   \n",
       "19964563            100.92  1184.92       205.32    298.01    M_0009   \n",
       "19964568            101.06  1185.14       206.83    290.44    M_0009   \n",
       "19964571            100.96  1187.09       208.63    261.41    M_0009   \n",
       "19964574            100.99  1186.29       210.94    253.22    M_0009   \n",
       "19964579            100.96  1186.54       214.94    199.30    M_0009   \n",
       "\n",
       "          Speed Difference  \n",
       "21061               123.79  \n",
       "21063               128.48  \n",
       "21066                127.7  \n",
       "21068               123.89  \n",
       "21069               130.15  \n",
       "...                    ...  \n",
       "19964563            184.92  \n",
       "19964568            185.14  \n",
       "19964571            187.09  \n",
       "19964574            186.29  \n",
       "19964579            186.54  \n",
       "\n",
       "[5935 rows x 9 columns]"
      ]
     },
     "execution_count": 21,
     "metadata": {},
     "output_type": "execute_result"
    }
   ],
   "source": [
    "samp[samp['temperature'] > 200]"
   ]
  },
  {
   "cell_type": "code",
   "execution_count": 22,
   "id": "d2c4128b-0775-4f5d-a84f-0ee4c2bf403e",
   "metadata": {
    "tags": []
   },
   "outputs": [
    {
     "data": {
      "text/html": [
       "<div>\n",
       "<style scoped>\n",
       "    .dataframe tbody tr th:only-of-type {\n",
       "        vertical-align: middle;\n",
       "    }\n",
       "\n",
       "    .dataframe tbody tr th {\n",
       "        vertical-align: top;\n",
       "    }\n",
       "\n",
       "    .dataframe thead th {\n",
       "        text-align: right;\n",
       "    }\n",
       "</style>\n",
       "<table border=\"1\" class=\"dataframe\">\n",
       "  <thead>\n",
       "    <tr style=\"text-align: right;\">\n",
       "      <th></th>\n",
       "      <th>timestamp</th>\n",
       "      <th>speed_desired</th>\n",
       "      <th>ambient_temperature</th>\n",
       "      <th>ambient_pressure</th>\n",
       "      <th>speed</th>\n",
       "      <th>temperature</th>\n",
       "      <th>pressure</th>\n",
       "      <th>machineid</th>\n",
       "      <th>Speed Difference</th>\n",
       "    </tr>\n",
       "  </thead>\n",
       "  <tbody>\n",
       "    <tr>\n",
       "      <th>21061</th>\n",
       "      <td>2021-11-06 02:13:36</td>\n",
       "      <td>1000</td>\n",
       "      <td>19.91</td>\n",
       "      <td>100.93</td>\n",
       "      <td>1123.79</td>\n",
       "      <td>200.51</td>\n",
       "      <td>305.21</td>\n",
       "      <td>M_0019</td>\n",
       "      <td>123.79</td>\n",
       "    </tr>\n",
       "    <tr>\n",
       "      <th>21063</th>\n",
       "      <td>2021-11-06 02:13:37</td>\n",
       "      <td>1000</td>\n",
       "      <td>20.10</td>\n",
       "      <td>100.96</td>\n",
       "      <td>1128.48</td>\n",
       "      <td>201.34</td>\n",
       "      <td>334.20</td>\n",
       "      <td>M_0019</td>\n",
       "      <td>128.48</td>\n",
       "    </tr>\n",
       "    <tr>\n",
       "      <th>21066</th>\n",
       "      <td>2021-11-06 02:13:38</td>\n",
       "      <td>1000</td>\n",
       "      <td>20.09</td>\n",
       "      <td>101.08</td>\n",
       "      <td>1127.70</td>\n",
       "      <td>202.13</td>\n",
       "      <td>300.08</td>\n",
       "      <td>M_0019</td>\n",
       "      <td>127.7</td>\n",
       "    </tr>\n",
       "    <tr>\n",
       "      <th>21068</th>\n",
       "      <td>2021-11-06 02:13:39</td>\n",
       "      <td>1000</td>\n",
       "      <td>20.01</td>\n",
       "      <td>101.06</td>\n",
       "      <td>1123.89</td>\n",
       "      <td>203.05</td>\n",
       "      <td>310.82</td>\n",
       "      <td>M_0019</td>\n",
       "      <td>123.89</td>\n",
       "    </tr>\n",
       "    <tr>\n",
       "      <th>21069</th>\n",
       "      <td>2021-11-06 02:13:40</td>\n",
       "      <td>1000</td>\n",
       "      <td>20.02</td>\n",
       "      <td>101.00</td>\n",
       "      <td>1130.15</td>\n",
       "      <td>204.20</td>\n",
       "      <td>269.96</td>\n",
       "      <td>M_0019</td>\n",
       "      <td>130.15</td>\n",
       "    </tr>\n",
       "    <tr>\n",
       "      <th>...</th>\n",
       "      <td>...</td>\n",
       "      <td>...</td>\n",
       "      <td>...</td>\n",
       "      <td>...</td>\n",
       "      <td>...</td>\n",
       "      <td>...</td>\n",
       "      <td>...</td>\n",
       "      <td>...</td>\n",
       "      <td>...</td>\n",
       "    </tr>\n",
       "    <tr>\n",
       "      <th>19964563</th>\n",
       "      <td>2022-04-26 20:28:39</td>\n",
       "      <td>1000</td>\n",
       "      <td>19.96</td>\n",
       "      <td>100.92</td>\n",
       "      <td>1184.92</td>\n",
       "      <td>205.32</td>\n",
       "      <td>298.01</td>\n",
       "      <td>M_0009</td>\n",
       "      <td>184.92</td>\n",
       "    </tr>\n",
       "    <tr>\n",
       "      <th>19964568</th>\n",
       "      <td>2022-04-26 20:28:40</td>\n",
       "      <td>1000</td>\n",
       "      <td>19.92</td>\n",
       "      <td>101.06</td>\n",
       "      <td>1185.14</td>\n",
       "      <td>206.83</td>\n",
       "      <td>290.44</td>\n",
       "      <td>M_0009</td>\n",
       "      <td>185.14</td>\n",
       "    </tr>\n",
       "    <tr>\n",
       "      <th>19964571</th>\n",
       "      <td>2022-04-26 20:28:41</td>\n",
       "      <td>1000</td>\n",
       "      <td>19.98</td>\n",
       "      <td>100.96</td>\n",
       "      <td>1187.09</td>\n",
       "      <td>208.63</td>\n",
       "      <td>261.41</td>\n",
       "      <td>M_0009</td>\n",
       "      <td>187.09</td>\n",
       "    </tr>\n",
       "    <tr>\n",
       "      <th>19964574</th>\n",
       "      <td>2022-04-26 20:28:42</td>\n",
       "      <td>1000</td>\n",
       "      <td>20.08</td>\n",
       "      <td>100.99</td>\n",
       "      <td>1186.29</td>\n",
       "      <td>210.94</td>\n",
       "      <td>253.22</td>\n",
       "      <td>M_0009</td>\n",
       "      <td>186.29</td>\n",
       "    </tr>\n",
       "    <tr>\n",
       "      <th>19964579</th>\n",
       "      <td>2022-04-26 20:28:43</td>\n",
       "      <td>1000</td>\n",
       "      <td>19.91</td>\n",
       "      <td>100.96</td>\n",
       "      <td>1186.54</td>\n",
       "      <td>214.94</td>\n",
       "      <td>199.30</td>\n",
       "      <td>M_0009</td>\n",
       "      <td>186.54</td>\n",
       "    </tr>\n",
       "  </tbody>\n",
       "</table>\n",
       "<p>5935 rows × 9 columns</p>\n",
       "</div>"
      ],
      "text/plain": [
       "                   timestamp  speed_desired  ambient_temperature  \\\n",
       "21061    2021-11-06 02:13:36           1000                19.91   \n",
       "21063    2021-11-06 02:13:37           1000                20.10   \n",
       "21066    2021-11-06 02:13:38           1000                20.09   \n",
       "21068    2021-11-06 02:13:39           1000                20.01   \n",
       "21069    2021-11-06 02:13:40           1000                20.02   \n",
       "...                      ...            ...                  ...   \n",
       "19964563 2022-04-26 20:28:39           1000                19.96   \n",
       "19964568 2022-04-26 20:28:40           1000                19.92   \n",
       "19964571 2022-04-26 20:28:41           1000                19.98   \n",
       "19964574 2022-04-26 20:28:42           1000                20.08   \n",
       "19964579 2022-04-26 20:28:43           1000                19.91   \n",
       "\n",
       "          ambient_pressure    speed  temperature  pressure machineid  \\\n",
       "21061               100.93  1123.79       200.51    305.21    M_0019   \n",
       "21063               100.96  1128.48       201.34    334.20    M_0019   \n",
       "21066               101.08  1127.70       202.13    300.08    M_0019   \n",
       "21068               101.06  1123.89       203.05    310.82    M_0019   \n",
       "21069               101.00  1130.15       204.20    269.96    M_0019   \n",
       "...                    ...      ...          ...       ...       ...   \n",
       "19964563            100.92  1184.92       205.32    298.01    M_0009   \n",
       "19964568            101.06  1185.14       206.83    290.44    M_0009   \n",
       "19964571            100.96  1187.09       208.63    261.41    M_0009   \n",
       "19964574            100.99  1186.29       210.94    253.22    M_0009   \n",
       "19964579            100.96  1186.54       214.94    199.30    M_0009   \n",
       "\n",
       "          Speed Difference  \n",
       "21061               123.79  \n",
       "21063               128.48  \n",
       "21066                127.7  \n",
       "21068               123.89  \n",
       "21069               130.15  \n",
       "...                    ...  \n",
       "19964563            184.92  \n",
       "19964568            185.14  \n",
       "19964571            187.09  \n",
       "19964574            186.29  \n",
       "19964579            186.54  \n",
       "\n",
       "[5935 rows x 9 columns]"
      ]
     },
     "execution_count": 22,
     "metadata": {},
     "output_type": "execute_result"
    }
   ],
   "source": [
    "samp[samp['temperature'] > 200]"
   ]
  },
  {
   "cell_type": "markdown",
   "id": "598f23f1-9fe4-4ec9-9192-78ef437b59f2",
   "metadata": {},
   "source": [
    "### Exploring Pressure"
   ]
  },
  {
   "cell_type": "markdown",
   "id": "ed28ec95-e8f0-4798-b92d-b30700e1c7a1",
   "metadata": {},
   "source": [
    "Now, let's look at pressure (measured in kilopascal). In this context, pressure measures the force of a liquid within the system. "
   ]
  },
  {
   "cell_type": "code",
   "execution_count": 23,
   "id": "0ec27091-3594-4d77-a225-767454262a8f",
   "metadata": {
    "tags": []
   },
   "outputs": [
    {
     "data": {
      "text/plain": [
       "Text(0, 0.5, 'Frequency')"
      ]
     },
     "execution_count": 23,
     "metadata": {},
     "output_type": "execute_result"
    },
    {
     "data": {
      "image/png": "[encoded data removed]",
      "text/plain": [
       "<Figure size 640x480 with 1 Axes>"
      ]
     },
     "metadata": {},
     "output_type": "display_data"
    }
   ],
   "source": [
    "samp['pressure'].hist(color='green')\n",
    "plt.title('Machine Pressure Distributions')\n",
    "plt.xlabel('Pressure (kPa)')\n",
    "plt.ylabel('Frequency')"
   ]
  },
  {
   "cell_type": "code",
   "execution_count": 24,
   "id": "ba1f38b5-bcbd-4032-b333-a1a7e74e0744",
   "metadata": {
    "tags": []
   },
   "outputs": [
    {
     "name": "stdout",
     "output_type": "stream",
     "text": [
      "410.4378546724304\n",
      "2081.549630888566\n"
     ]
    }
   ],
   "source": [
    "too_low = samp['pressure'].mean() - 2 * samp['pressure'].std()\n",
    "print(too_low)\n",
    "too_high = samp['pressure'].mean() + 2 * samp['pressure'].std()\n",
    "print(too_high)"
   ]
  },
  {
   "cell_type": "markdown",
   "id": "cdaa6fb1-a9eb-4205-a298-498c139cd423",
   "metadata": {},
   "source": [
    "It looks like we have a case of outliers on the lower end. There are a small amount on the higher end, so I'll consider those when evaluating risk, but about 9% of records are much too low. What could low pressure mean? Could be anything from leakages, worn out parts, or a faulty sensor. In any case, action should be taken to fix this. Meanwhile, high pressure could be a result of excessive load or an obstruction."
   ]
  },
  {
   "cell_type": "code",
   "execution_count": 25,
   "id": "f1643dc1-cd2d-4089-b08a-2d3d7f7b1636",
   "metadata": {
    "tags": []
   },
   "outputs": [
    {
     "name": "stdout",
     "output_type": "stream",
     "text": [
      "8.85% is too low (less than -2 standard deviations from the mean)\n",
      "0.11% is too high (more than 2 standard deviations from the mean)\n"
     ]
    }
   ],
   "source": [
    "print(str(np.round(len(samp[samp['pressure'] <  too_low]) / len(samp) * 100, 2)) + '% is too low (less than -2 standard deviations from the mean)')\n",
    "print(str(np.round(len(samp[samp['pressure'] > too_high]) / len(samp) * 100, 2)) + '% is too high (more than 2 standard deviations from the mean)')"
   ]
  },
  {
   "cell_type": "markdown",
   "id": "cdcee97d-22be-4106-b798-9f71c5187e68",
   "metadata": {},
   "source": [
    "### Exploring Ambient Temperature and Ambient Pressure"
   ]
  },
  {
   "cell_type": "markdown",
   "id": "829d672e-5234-4f73-a316-c20d6ae0dda2",
   "metadata": {},
   "source": [
    "Looking at the histograms for these metrics, it doesn't seem like there's any outliers, but I'll check just in case. "
   ]
  },
  {
   "cell_type": "code",
   "execution_count": 26,
   "id": "65548210-0fcf-4b19-8ec4-fc6917afc295",
   "metadata": {
    "tags": []
   },
   "outputs": [
    {
     "data": {
      "text/plain": [
       "Text(0, 0.5, 'Frequency')"
      ]
     },
     "execution_count": 26,
     "metadata": {},
     "output_type": "execute_result"
    },
    {
     "data": {
      "image/png": "[encoded data removed]",
      "text/plain": [
       "<Figure size 640x480 with 1 Axes>"
      ]
     },
     "metadata": {},
     "output_type": "display_data"
    }
   ],
   "source": [
    "samp['ambient_temperature'].hist(color='orange')\n",
    "plt.title('Machine Ambient Temperature Distribution')\n",
    "plt.xlabel('Ambient Temperature (Celcius)')\n",
    "plt.ylabel('Frequency')"
   ]
  },
  {
   "cell_type": "markdown",
   "id": "ea35f072-9b28-42f6-a70b-6d49c4abbd12",
   "metadata": {},
   "source": [
    "As we can see, none of the values for ambient temperature are classified as outliers. Let's move onto ambient pressure. As we can see from the plots and the outlier check, there is nothing out of the ordinary here. "
   ]
  },
  {
   "cell_type": "code",
   "execution_count": 27,
   "id": "77626a36-d4be-4a2e-99d6-a481fcfd6855",
   "metadata": {
    "tags": []
   },
   "outputs": [
    {
     "name": "stdout",
     "output_type": "stream",
     "text": [
      "19.884223686917647\n",
      "20.115740089082333\n"
     ]
    }
   ],
   "source": [
    "too_low = samp['ambient_temperature'].mean() - 2 * samp['ambient_temperature'].std()\n",
    "print(too_low)\n",
    "too_high = samp['ambient_temperature'].mean() + 2 * samp['ambient_temperature'].std()\n",
    "print(too_high)"
   ]
  },
  {
   "cell_type": "code",
   "execution_count": 28,
   "id": "93f6c8ff-f455-4d49-8fd3-40c7e7e6a8cb",
   "metadata": {
    "tags": []
   },
   "outputs": [
    {
     "name": "stdout",
     "output_type": "stream",
     "text": [
      "0.0% is too low (less than -2 standard deviations from the mean)\n",
      "0.0% is too high (more than 2 standard deviations from the mean)\n"
     ]
    }
   ],
   "source": [
    "print(str(np.round(len(samp[samp['ambient_temperature'] <  too_low]) / len(samp) * 100, 2)) + '% is too low (less than -2 standard deviations from the mean)')\n",
    "print(str(np.round(len(samp[samp['ambient_temperature'] > too_high]) / len(samp) * 100, 2)) + '% is too high (more than 2 standard deviations from the mean)')"
   ]
  },
  {
   "cell_type": "code",
   "execution_count": 29,
   "id": "9290bc7f-9aeb-4592-808c-c6388c0ec3b3",
   "metadata": {
    "tags": []
   },
   "outputs": [
    {
     "data": {
      "text/plain": [
       "Text(0, 0.5, 'Frequency')"
      ]
     },
     "execution_count": 29,
     "metadata": {},
     "output_type": "execute_result"
    },
    {
     "data": {
      "image/png": "[encoded data removed]",
      "text/plain": [
       "<Figure size 640x480 with 1 Axes>"
      ]
     },
     "metadata": {},
     "output_type": "display_data"
    }
   ],
   "source": [
    "samp['ambient_pressure'].hist(color='purple')\n",
    "plt.title('Machine Ambient Temperature Distribution')\n",
    "plt.xlabel('Ambient Pressure (kPa)')\n",
    "plt.ylabel('Frequency')"
   ]
  },
  {
   "cell_type": "code",
   "execution_count": 30,
   "id": "8fe4ca19-4c00-4647-bcc7-d22ff11961e7",
   "metadata": {
    "tags": []
   },
   "outputs": [
    {
     "name": "stdout",
     "output_type": "stream",
     "text": [
      "100.88423199992114\n",
      "101.11577689207896\n"
     ]
    }
   ],
   "source": [
    "too_low = samp['ambient_pressure'].mean() - 2 * samp['ambient_pressure'].std()\n",
    "print(too_low)\n",
    "too_high = samp['ambient_pressure'].mean() + 2 * samp['ambient_pressure'].std()\n",
    "print(too_high)"
   ]
  },
  {
   "cell_type": "code",
   "execution_count": 31,
   "id": "934535c1-93d2-4a52-8e78-193533689f1f",
   "metadata": {
    "tags": []
   },
   "outputs": [
    {
     "name": "stdout",
     "output_type": "stream",
     "text": [
      "0.0% is too low (less than -2 standard deviations from the mean)\n",
      "0.0% is too high (more than 2 standard deviations from the mean)\n"
     ]
    }
   ],
   "source": [
    "print(str(np.round(len(samp[samp['ambient_pressure'] <  too_low]) / len(samp) * 100, 2)) + '% is too low (less than -2 standard deviations from the mean)')\n",
    "print(str(np.round(len(samp[samp['ambient_pressure'] > too_high]) / len(samp) * 100, 2)) + '% is too high (more than 2 standard deviations from the mean)')"
   ]
  },
  {
   "cell_type": "markdown",
   "id": "b3bec264-c6b8-4556-9198-6d4586f4ae17",
   "metadata": {},
   "source": [
    "So, the criteria that I'll use for evaluating risk in machine health is as below:\n",
    "- Speed Difference\n",
    "    - Over 232 RPM -> Risk\n",
    "    - Over 400 RPM -> Slightly Higher Risk\n",
    "    - Over 500 RPM -> Higher Risk\n",
    "    - Over 600 RPM -> Highest Risk\n",
    "- Temperature\n",
    "    - Over 150 Degrees (F) -> Risk\n",
    "    - Over 175 Degrees (F) -> Higher Risk\n",
    "    - Over 200 Degrees (F) -> Highest Risk\n",
    "- Pressure\n",
    "    - Below 482 kPa\n",
    "    - Above 2114 kPa"
   ]
  },
  {
   "cell_type": "code",
   "execution_count": 32,
   "id": "9cfd4ce1-820d-4a01-b2fa-4fa841e8e8b6",
   "metadata": {
    "tags": []
   },
   "outputs": [],
   "source": [
    "final_df = samp.drop(['speed_desired', 'ambient_temperature', 'ambient_pressure'], axis=1)"
   ]
  },
  {
   "cell_type": "code",
   "execution_count": 33,
   "id": "ddba4eb2-701d-4296-870b-6f807510e7c0",
   "metadata": {
    "tags": []
   },
   "outputs": [
    {
     "data": {
      "text/html": [
       "<div>\n",
       "<style scoped>\n",
       "    .dataframe tbody tr th:only-of-type {\n",
       "        vertical-align: middle;\n",
       "    }\n",
       "\n",
       "    .dataframe tbody tr th {\n",
       "        vertical-align: top;\n",
       "    }\n",
       "\n",
       "    .dataframe thead th {\n",
       "        text-align: right;\n",
       "    }\n",
       "</style>\n",
       "<table border=\"1\" class=\"dataframe\">\n",
       "  <thead>\n",
       "    <tr style=\"text-align: right;\">\n",
       "      <th></th>\n",
       "      <th>timestamp</th>\n",
       "      <th>speed</th>\n",
       "      <th>temperature</th>\n",
       "      <th>pressure</th>\n",
       "      <th>machineid</th>\n",
       "      <th>Speed Difference</th>\n",
       "    </tr>\n",
       "  </thead>\n",
       "  <tbody>\n",
       "    <tr>\n",
       "      <th>0</th>\n",
       "      <td>2021-11-02 00:50:26</td>\n",
       "      <td>1130.87</td>\n",
       "      <td>140.50</td>\n",
       "      <td>1401.04</td>\n",
       "      <td>M_0045</td>\n",
       "      <td>130.87</td>\n",
       "    </tr>\n",
       "    <tr>\n",
       "      <th>1</th>\n",
       "      <td>2021-11-02 00:50:26</td>\n",
       "      <td>1107.15</td>\n",
       "      <td>136.96</td>\n",
       "      <td>1492.14</td>\n",
       "      <td>M_0034</td>\n",
       "      <td>107.15</td>\n",
       "    </tr>\n",
       "    <tr>\n",
       "      <th>2</th>\n",
       "      <td>2021-11-02 00:50:26</td>\n",
       "      <td>1102.14</td>\n",
       "      <td>135.02</td>\n",
       "      <td>1522.27</td>\n",
       "      <td>M_0038</td>\n",
       "      <td>102.14</td>\n",
       "    </tr>\n",
       "    <tr>\n",
       "      <th>3</th>\n",
       "      <td>2021-11-02 00:50:26</td>\n",
       "      <td>1103.96</td>\n",
       "      <td>139.04</td>\n",
       "      <td>1395.93</td>\n",
       "      <td>M_0026</td>\n",
       "      <td>103.96</td>\n",
       "    </tr>\n",
       "    <tr>\n",
       "      <th>4</th>\n",
       "      <td>2021-11-02 00:50:27</td>\n",
       "      <td>1101.29</td>\n",
       "      <td>136.87</td>\n",
       "      <td>1478.01</td>\n",
       "      <td>M_0034</td>\n",
       "      <td>101.29</td>\n",
       "    </tr>\n",
       "    <tr>\n",
       "      <th>...</th>\n",
       "      <td>...</td>\n",
       "      <td>...</td>\n",
       "      <td>...</td>\n",
       "      <td>...</td>\n",
       "      <td>...</td>\n",
       "      <td>...</td>\n",
       "    </tr>\n",
       "    <tr>\n",
       "      <th>19999995</th>\n",
       "      <td>2022-05-04 20:21:23</td>\n",
       "      <td>1200.28</td>\n",
       "      <td>146.48</td>\n",
       "      <td>1347.03</td>\n",
       "      <td>M_0010</td>\n",
       "      <td>200.28</td>\n",
       "    </tr>\n",
       "    <tr>\n",
       "      <th>19999996</th>\n",
       "      <td>2022-05-04 20:21:23</td>\n",
       "      <td>1108.35</td>\n",
       "      <td>146.97</td>\n",
       "      <td>1174.29</td>\n",
       "      <td>M_0003</td>\n",
       "      <td>108.35</td>\n",
       "    </tr>\n",
       "    <tr>\n",
       "      <th>19999997</th>\n",
       "      <td>2022-05-04 20:21:23</td>\n",
       "      <td>1213.80</td>\n",
       "      <td>137.99</td>\n",
       "      <td>1623.62</td>\n",
       "      <td>M_0018</td>\n",
       "      <td>213.8</td>\n",
       "    </tr>\n",
       "    <tr>\n",
       "      <th>19999998</th>\n",
       "      <td>2022-05-04 20:21:24</td>\n",
       "      <td>1162.79</td>\n",
       "      <td>142.15</td>\n",
       "      <td>1416.39</td>\n",
       "      <td>M_0031</td>\n",
       "      <td>162.79</td>\n",
       "    </tr>\n",
       "    <tr>\n",
       "      <th>19999999</th>\n",
       "      <td>2022-05-04 20:21:24</td>\n",
       "      <td>1130.04</td>\n",
       "      <td>139.10</td>\n",
       "      <td>1441.97</td>\n",
       "      <td>M_0021</td>\n",
       "      <td>130.04</td>\n",
       "    </tr>\n",
       "  </tbody>\n",
       "</table>\n",
       "<p>20000000 rows × 6 columns</p>\n",
       "</div>"
      ],
      "text/plain": [
       "                   timestamp    speed  temperature  pressure machineid  \\\n",
       "0        2021-11-02 00:50:26  1130.87       140.50   1401.04    M_0045   \n",
       "1        2021-11-02 00:50:26  1107.15       136.96   1492.14    M_0034   \n",
       "2        2021-11-02 00:50:26  1102.14       135.02   1522.27    M_0038   \n",
       "3        2021-11-02 00:50:26  1103.96       139.04   1395.93    M_0026   \n",
       "4        2021-11-02 00:50:27  1101.29       136.87   1478.01    M_0034   \n",
       "...                      ...      ...          ...       ...       ...   \n",
       "19999995 2022-05-04 20:21:23  1200.28       146.48   1347.03    M_0010   \n",
       "19999996 2022-05-04 20:21:23  1108.35       146.97   1174.29    M_0003   \n",
       "19999997 2022-05-04 20:21:23  1213.80       137.99   1623.62    M_0018   \n",
       "19999998 2022-05-04 20:21:24  1162.79       142.15   1416.39    M_0031   \n",
       "19999999 2022-05-04 20:21:24  1130.04       139.10   1441.97    M_0021   \n",
       "\n",
       "          Speed Difference  \n",
       "0                   130.87  \n",
       "1                   107.15  \n",
       "2                   102.14  \n",
       "3                   103.96  \n",
       "4                   101.29  \n",
       "...                    ...  \n",
       "19999995            200.28  \n",
       "19999996            108.35  \n",
       "19999997             213.8  \n",
       "19999998            162.79  \n",
       "19999999            130.04  \n",
       "\n",
       "[20000000 rows x 6 columns]"
      ]
     },
     "execution_count": 33,
     "metadata": {},
     "output_type": "execute_result"
    }
   ],
   "source": [
    "final_df"
   ]
  },
  {
   "cell_type": "code",
   "execution_count": 36,
   "id": "f63eb67d-99a0-4576-8ba3-1b6a8faaf28e",
   "metadata": {
    "tags": []
   },
   "outputs": [
    {
     "data": {
      "text/plain": [
       "{'paths': ['s3://predictive-maintenance-capstone-sn/data/telemetry2/68d7661342e446ba84423a35858f54d6.snappy.parquet'],\n",
       " 'partitions_values': {}}"
      ]
     },
     "execution_count": 36,
     "metadata": {},
     "output_type": "execute_result"
    }
   ],
   "source": [
    "wr.s3.to_parquet(\n",
    "    dataset=True,\n",
    "    df=final_df,\n",
    "    database='capstone_v2',\n",
    "    path=\"s3://predictive-maintenance-capstone-sn/data/telemetry2/\",\n",
    "    table='telemetry_extended')"
   ]
  },
  {
   "cell_type": "code",
   "execution_count": 37,
   "id": "93fed267-f933-433e-8112-929783083e2b",
   "metadata": {},
   "outputs": [
    {
     "data": {
      "text/html": [
       "<div>\n",
       "<style scoped>\n",
       "    .dataframe tbody tr th:only-of-type {\n",
       "        vertical-align: middle;\n",
       "    }\n",
       "\n",
       "    .dataframe tbody tr th {\n",
       "        vertical-align: top;\n",
       "    }\n",
       "\n",
       "    .dataframe thead th {\n",
       "        text-align: right;\n",
       "    }\n",
       "</style>\n",
       "<table border=\"1\" class=\"dataframe\">\n",
       "  <thead>\n",
       "    <tr style=\"text-align: right;\">\n",
       "      <th></th>\n",
       "      <th>timestamp</th>\n",
       "      <th>speed</th>\n",
       "      <th>temperature</th>\n",
       "      <th>pressure</th>\n",
       "      <th>machineid</th>\n",
       "      <th>Speed Difference</th>\n",
       "    </tr>\n",
       "  </thead>\n",
       "  <tbody>\n",
       "    <tr>\n",
       "      <th>0</th>\n",
       "      <td>2021-11-02 00:50:26</td>\n",
       "      <td>1130.87</td>\n",
       "      <td>140.50</td>\n",
       "      <td>1401.04</td>\n",
       "      <td>M_0045</td>\n",
       "      <td>130.87</td>\n",
       "    </tr>\n",
       "    <tr>\n",
       "      <th>1</th>\n",
       "      <td>2021-11-02 00:50:26</td>\n",
       "      <td>1107.15</td>\n",
       "      <td>136.96</td>\n",
       "      <td>1492.14</td>\n",
       "      <td>M_0034</td>\n",
       "      <td>107.15</td>\n",
       "    </tr>\n",
       "    <tr>\n",
       "      <th>2</th>\n",
       "      <td>2021-11-02 00:50:26</td>\n",
       "      <td>1102.14</td>\n",
       "      <td>135.02</td>\n",
       "      <td>1522.27</td>\n",
       "      <td>M_0038</td>\n",
       "      <td>102.14</td>\n",
       "    </tr>\n",
       "    <tr>\n",
       "      <th>3</th>\n",
       "      <td>2021-11-02 00:50:26</td>\n",
       "      <td>1103.96</td>\n",
       "      <td>139.04</td>\n",
       "      <td>1395.93</td>\n",
       "      <td>M_0026</td>\n",
       "      <td>103.96</td>\n",
       "    </tr>\n",
       "    <tr>\n",
       "      <th>4</th>\n",
       "      <td>2021-11-02 00:50:27</td>\n",
       "      <td>1101.29</td>\n",
       "      <td>136.87</td>\n",
       "      <td>1478.01</td>\n",
       "      <td>M_0034</td>\n",
       "      <td>101.29</td>\n",
       "    </tr>\n",
       "    <tr>\n",
       "      <th>...</th>\n",
       "      <td>...</td>\n",
       "      <td>...</td>\n",
       "      <td>...</td>\n",
       "      <td>...</td>\n",
       "      <td>...</td>\n",
       "      <td>...</td>\n",
       "    </tr>\n",
       "    <tr>\n",
       "      <th>19999995</th>\n",
       "      <td>2022-05-04 20:21:23</td>\n",
       "      <td>1200.28</td>\n",
       "      <td>146.48</td>\n",
       "      <td>1347.03</td>\n",
       "      <td>M_0010</td>\n",
       "      <td>200.28</td>\n",
       "    </tr>\n",
       "    <tr>\n",
       "      <th>19999996</th>\n",
       "      <td>2022-05-04 20:21:23</td>\n",
       "      <td>1108.35</td>\n",
       "      <td>146.97</td>\n",
       "      <td>1174.29</td>\n",
       "      <td>M_0003</td>\n",
       "      <td>108.35</td>\n",
       "    </tr>\n",
       "    <tr>\n",
       "      <th>19999997</th>\n",
       "      <td>2022-05-04 20:21:23</td>\n",
       "      <td>1213.80</td>\n",
       "      <td>137.99</td>\n",
       "      <td>1623.62</td>\n",
       "      <td>M_0018</td>\n",
       "      <td>213.8</td>\n",
       "    </tr>\n",
       "    <tr>\n",
       "      <th>19999998</th>\n",
       "      <td>2022-05-04 20:21:24</td>\n",
       "      <td>1162.79</td>\n",
       "      <td>142.15</td>\n",
       "      <td>1416.39</td>\n",
       "      <td>M_0031</td>\n",
       "      <td>162.79</td>\n",
       "    </tr>\n",
       "    <tr>\n",
       "      <th>19999999</th>\n",
       "      <td>2022-05-04 20:21:24</td>\n",
       "      <td>1130.04</td>\n",
       "      <td>139.10</td>\n",
       "      <td>1441.97</td>\n",
       "      <td>M_0021</td>\n",
       "      <td>130.04</td>\n",
       "    </tr>\n",
       "  </tbody>\n",
       "</table>\n",
       "<p>20000000 rows × 6 columns</p>\n",
       "</div>"
      ],
      "text/plain": [
       "                   timestamp    speed  temperature  pressure machineid  \\\n",
       "0        2021-11-02 00:50:26  1130.87       140.50   1401.04    M_0045   \n",
       "1        2021-11-02 00:50:26  1107.15       136.96   1492.14    M_0034   \n",
       "2        2021-11-02 00:50:26  1102.14       135.02   1522.27    M_0038   \n",
       "3        2021-11-02 00:50:26  1103.96       139.04   1395.93    M_0026   \n",
       "4        2021-11-02 00:50:27  1101.29       136.87   1478.01    M_0034   \n",
       "...                      ...      ...          ...       ...       ...   \n",
       "19999995 2022-05-04 20:21:23  1200.28       146.48   1347.03    M_0010   \n",
       "19999996 2022-05-04 20:21:23  1108.35       146.97   1174.29    M_0003   \n",
       "19999997 2022-05-04 20:21:23  1213.80       137.99   1623.62    M_0018   \n",
       "19999998 2022-05-04 20:21:24  1162.79       142.15   1416.39    M_0031   \n",
       "19999999 2022-05-04 20:21:24  1130.04       139.10   1441.97    M_0021   \n",
       "\n",
       "          Speed Difference  \n",
       "0                   130.87  \n",
       "1                   107.15  \n",
       "2                   102.14  \n",
       "3                   103.96  \n",
       "4                   101.29  \n",
       "...                    ...  \n",
       "19999995            200.28  \n",
       "19999996            108.35  \n",
       "19999997             213.8  \n",
       "19999998            162.79  \n",
       "19999999            130.04  \n",
       "\n",
       "[20000000 rows x 6 columns]"
      ]
     },
     "execution_count": 37,
     "metadata": {},
     "output_type": "execute_result"
    }
   ],
   "source": [
    "final_df"
   ]
  },
  {
   "cell_type": "code",
   "execution_count": null,
   "id": "39e37ec7-6072-4e6b-8189-a6cf73439166",
   "metadata": {},
   "outputs": [],
   "source": []
  }
 ],
 "metadata": {
  "kernelspec": {
   "display_name": "conda_pytorch_p310",
   "language": "python",
   "name": "conda_pytorch_p310"
  },
  "language_info": {
   "codemirror_mode": {
    "name": "ipython",
    "version": 3
   },
   "file_extension": ".py",
   "mimetype": "text/x-python",
   "name": "python",
   "nbconvert_exporter": "python",
   "pygments_lexer": "ipython3",
   "version": "3.10.13"
  }
 },
 "nbformat": 4,
 "nbformat_minor": 5
}
