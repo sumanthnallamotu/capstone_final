{
 "cells": [
  {
   "cell_type": "code",
   "execution_count": 1,
   "id": "68392539-5922-4e5f-8f78-f66f4b957fe8",
   "metadata": {
    "tags": []
   },
   "outputs": [],
   "source": [
    "!pip install openai awswrangler --quiet\n",
    "\n",
    "\n",
    "import pandas as pd\n",
    "import numpy as np\n",
    "import datetime\n",
    "\n",
    "import os\n",
    "import openai\n",
    "\n",
    "import awswrangler as wr"
   ]
  },
  {
   "cell_type": "code",
   "execution_count": 2,
   "id": "f93cddb5-de22-4f9e-980b-672b232fa973",
   "metadata": {
    "tags": []
   },
   "outputs": [],
   "source": [
    "key_file = open('/home/ec2-user/SageMaker/open_key.txt')\n",
    "open_key = key_file.read()\n",
    "\n",
    "os.environ[\"OPENAI_API_KEY\"] = open_key\n",
    "openai.api_key = os.environ['OPENAI_API_KEY']"
   ]
  },
  {
   "cell_type": "code",
   "execution_count": 3,
   "id": "c19c79bb-2ce3-453c-9fa9-2d20c4284bc4",
   "metadata": {
    "tags": []
   },
   "outputs": [],
   "source": [
    "from openai import OpenAI\n",
    "client = OpenAI()"
   ]
  },
  {
   "cell_type": "code",
   "execution_count": 4,
   "id": "0fbb344c-e0f9-47f8-8d40-a5a8c7f86f4b",
   "metadata": {
    "tags": []
   },
   "outputs": [],
   "source": [
    "query_string = \"Write a SQL query that gets all machines with over 600 speed difference. Return timestamp, machine ID, and speed difference. Sort by highest speed difference. Top 20 results\"\n",
    "\n",
    "response = client.chat.completions.create(\n",
    "    model='gpt-4',\n",
    "    messages=[\n",
    "        {\n",
    "            \"role\": \"system\",\n",
    "            \"content\": \"Given the following SQL table, your job is to write queries given a user's request \\n CREATE TABLE telemetry_extended_v3 (\\n timestamp DateTime,\\n speed_desired Int,\\n ambient_temperature Float,\\n ambient_pressure Float,\\n speed Float,\\n temperature Float,\\n pressure Float,\\n machineid String,\\n speed_difference Float;\"\n",
    "        },\n",
    "        {\n",
    "            \"role\": \"user\",\n",
    "            \"content\": query_string,\n",
    "        }\n",
    "    ],\n",
    "    temperature=0.1,\n",
    "    max_tokens=1000,\n",
    "    top_p=1,\n",
    "    frequency_penalty=0,\n",
    "    presence_penalty=0\n",
    ")\n",
    "\n",
    "output_query = response.choices[0].message.content\n",
    "# Completed in 1 second"
   ]
  },
  {
   "cell_type": "code",
   "execution_count": 5,
   "id": "d002f41b-fa1c-4c1d-a858-0ec7dff4905f",
   "metadata": {
    "tags": []
   },
   "outputs": [
    {
     "data": {
      "text/plain": [
       "'SELECT timestamp, machineid, speed_difference\\nFROM telemetry_extended_v3\\nWHERE speed_difference > 600\\nORDER BY speed_difference DESC\\nLIMIT 20;'"
      ]
     },
     "execution_count": 5,
     "metadata": {},
     "output_type": "execute_result"
    }
   ],
   "source": [
    "output_query"
   ]
  },
  {
   "cell_type": "code",
   "execution_count": 6,
   "id": "0e7ea9a0-524e-4737-a36a-a2f361c47530",
   "metadata": {
    "tags": []
   },
   "outputs": [],
   "source": [
    "df = wr.athena.read_sql_query(\n",
    "    sql=output_query,\n",
    "    database='capstone_v3',\n",
    "    ctas_approach=True)"
   ]
  },
  {
   "cell_type": "code",
   "execution_count": 7,
   "id": "c6b15146-1d38-43fd-a14c-2defe6f9164a",
   "metadata": {
    "tags": []
   },
   "outputs": [
    {
     "data": {
      "text/html": [
       "<div>\n",
       "<style scoped>\n",
       "    .dataframe tbody tr th:only-of-type {\n",
       "        vertical-align: middle;\n",
       "    }\n",
       "\n",
       "    .dataframe tbody tr th {\n",
       "        vertical-align: top;\n",
       "    }\n",
       "\n",
       "    .dataframe thead th {\n",
       "        text-align: right;\n",
       "    }\n",
       "</style>\n",
       "<table border=\"1\" class=\"dataframe\">\n",
       "  <thead>\n",
       "    <tr style=\"text-align: right;\">\n",
       "      <th></th>\n",
       "      <th>timestamp</th>\n",
       "      <th>machineid</th>\n",
       "      <th>speed_difference</th>\n",
       "    </tr>\n",
       "  </thead>\n",
       "  <tbody>\n",
       "    <tr>\n",
       "      <th>0</th>\n",
       "      <td>2023-04-30 15:34:40</td>\n",
       "      <td>M_0002</td>\n",
       "      <td>838.39</td>\n",
       "    </tr>\n",
       "    <tr>\n",
       "      <th>1</th>\n",
       "      <td>2023-08-10 06:07:40</td>\n",
       "      <td>M_0007</td>\n",
       "      <td>837.71</td>\n",
       "    </tr>\n",
       "    <tr>\n",
       "      <th>2</th>\n",
       "      <td>2022-01-25 12:48:40</td>\n",
       "      <td>M_0006</td>\n",
       "      <td>826.94</td>\n",
       "    </tr>\n",
       "    <tr>\n",
       "      <th>3</th>\n",
       "      <td>2023-10-17 09:13:40</td>\n",
       "      <td>M_0005</td>\n",
       "      <td>822.74</td>\n",
       "    </tr>\n",
       "    <tr>\n",
       "      <th>4</th>\n",
       "      <td>2022-11-22 12:12:40</td>\n",
       "      <td>M_0020</td>\n",
       "      <td>821.63</td>\n",
       "    </tr>\n",
       "    <tr>\n",
       "      <th>5</th>\n",
       "      <td>2023-04-12 09:48:40</td>\n",
       "      <td>M_0013</td>\n",
       "      <td>813.48</td>\n",
       "    </tr>\n",
       "    <tr>\n",
       "      <th>6</th>\n",
       "      <td>2022-09-13 06:49:40</td>\n",
       "      <td>M_0009</td>\n",
       "      <td>808.49</td>\n",
       "    </tr>\n",
       "    <tr>\n",
       "      <th>7</th>\n",
       "      <td>2021-12-04 06:18:40</td>\n",
       "      <td>M_0008</td>\n",
       "      <td>802.49</td>\n",
       "    </tr>\n",
       "    <tr>\n",
       "      <th>8</th>\n",
       "      <td>2021-12-31 03:40:40</td>\n",
       "      <td>M_0013</td>\n",
       "      <td>797.65</td>\n",
       "    </tr>\n",
       "    <tr>\n",
       "      <th>9</th>\n",
       "      <td>2023-06-26 00:53:40</td>\n",
       "      <td>M_0005</td>\n",
       "      <td>789.45</td>\n",
       "    </tr>\n",
       "    <tr>\n",
       "      <th>10</th>\n",
       "      <td>2022-09-04 12:52:40</td>\n",
       "      <td>M_0018</td>\n",
       "      <td>789.02</td>\n",
       "    </tr>\n",
       "    <tr>\n",
       "      <th>11</th>\n",
       "      <td>2022-02-17 00:18:40</td>\n",
       "      <td>M_0010</td>\n",
       "      <td>788.50</td>\n",
       "    </tr>\n",
       "    <tr>\n",
       "      <th>12</th>\n",
       "      <td>2022-02-09 15:05:40</td>\n",
       "      <td>M_0023</td>\n",
       "      <td>779.37</td>\n",
       "    </tr>\n",
       "    <tr>\n",
       "      <th>13</th>\n",
       "      <td>2022-06-29 00:36:40</td>\n",
       "      <td>M_0001</td>\n",
       "      <td>778.51</td>\n",
       "    </tr>\n",
       "    <tr>\n",
       "      <th>14</th>\n",
       "      <td>2021-11-14 03:37:40</td>\n",
       "      <td>M_0018</td>\n",
       "      <td>776.67</td>\n",
       "    </tr>\n",
       "    <tr>\n",
       "      <th>15</th>\n",
       "      <td>2023-05-23 09:17:40</td>\n",
       "      <td>M_0004</td>\n",
       "      <td>775.68</td>\n",
       "    </tr>\n",
       "    <tr>\n",
       "      <th>16</th>\n",
       "      <td>2022-11-12 15:44:40</td>\n",
       "      <td>M_0022</td>\n",
       "      <td>775.64</td>\n",
       "    </tr>\n",
       "    <tr>\n",
       "      <th>17</th>\n",
       "      <td>2021-11-08 00:23:40</td>\n",
       "      <td>M_0006</td>\n",
       "      <td>775.16</td>\n",
       "    </tr>\n",
       "    <tr>\n",
       "      <th>18</th>\n",
       "      <td>2023-05-01 00:01:40</td>\n",
       "      <td>M_0016</td>\n",
       "      <td>774.80</td>\n",
       "    </tr>\n",
       "    <tr>\n",
       "      <th>19</th>\n",
       "      <td>2022-03-05 00:29:35</td>\n",
       "      <td>M_0019</td>\n",
       "      <td>771.34</td>\n",
       "    </tr>\n",
       "  </tbody>\n",
       "</table>\n",
       "</div>"
      ],
      "text/plain": [
       "             timestamp machineid  speed_difference\n",
       "0  2023-04-30 15:34:40    M_0002            838.39\n",
       "1  2023-08-10 06:07:40    M_0007            837.71\n",
       "2  2022-01-25 12:48:40    M_0006            826.94\n",
       "3  2023-10-17 09:13:40    M_0005            822.74\n",
       "4  2022-11-22 12:12:40    M_0020            821.63\n",
       "5  2023-04-12 09:48:40    M_0013            813.48\n",
       "6  2022-09-13 06:49:40    M_0009            808.49\n",
       "7  2021-12-04 06:18:40    M_0008            802.49\n",
       "8  2021-12-31 03:40:40    M_0013            797.65\n",
       "9  2023-06-26 00:53:40    M_0005            789.45\n",
       "10 2022-09-04 12:52:40    M_0018            789.02\n",
       "11 2022-02-17 00:18:40    M_0010            788.50\n",
       "12 2022-02-09 15:05:40    M_0023            779.37\n",
       "13 2022-06-29 00:36:40    M_0001            778.51\n",
       "14 2021-11-14 03:37:40    M_0018            776.67\n",
       "15 2023-05-23 09:17:40    M_0004            775.68\n",
       "16 2022-11-12 15:44:40    M_0022            775.64\n",
       "17 2021-11-08 00:23:40    M_0006            775.16\n",
       "18 2023-05-01 00:01:40    M_0016            774.80\n",
       "19 2022-03-05 00:29:35    M_0019            771.34"
      ]
     },
     "execution_count": 7,
     "metadata": {},
     "output_type": "execute_result"
    }
   ],
   "source": [
    "df"
   ]
  },
  {
   "cell_type": "code",
   "execution_count": 8,
   "id": "66ca3f29-7458-46dd-af03-fe2231797d0a",
   "metadata": {
    "tags": []
   },
   "outputs": [],
   "source": [
    "context = \"Here is the context: We are looking at industrial factory machine data. Speed differences of 232 and over are worse as you get higher. You will be provided a string representation of a dataframe with SQL query results. Your job is to summarize thes results and give recommendations for how to address these issues. Here is the corresponding SQL query: \" + output_query "
   ]
  },
  {
   "cell_type": "code",
   "execution_count": 9,
   "id": "d9823be9-6439-4c56-8d8b-a57fa7041325",
   "metadata": {
    "tags": []
   },
   "outputs": [],
   "source": [
    "response = client.chat.completions.create(\n",
    "    model='gpt-4',\n",
    "    messages=[\n",
    "        {\n",
    "            \"role\": \"system\",\n",
    "            \"content\": context\n",
    "        },\n",
    "        {\n",
    "            \"role\": \"user\",\n",
    "            \"content\": \"Please give me a summary of these results\" + str(df)\n",
    "        }\n",
    "    ],\n",
    "    temperature=0.1,\n",
    "    max_tokens=1000,\n",
    "    top_p=1,\n",
    "    frequency_penalty=0,\n",
    "    presence_penalty=0\n",
    ")\n",
    "\n",
    "output_query = response.choices[0].message.content"
   ]
  },
  {
   "cell_type": "code",
   "execution_count": 10,
   "id": "f9d3047e-6b89-4911-9ffc-74d3d8ed9a57",
   "metadata": {
    "tags": []
   },
   "outputs": [
    {
     "name": "stdout",
     "output_type": "stream",
     "text": [
      "The SQL query results show the top 20 instances where the speed difference of industrial factory machines exceeded 600. The speed differences range from 771.34 to 838.39, which are significantly higher than the threshold of 232. \n",
      "\n",
      "The machine with the highest speed difference of 838.39 is M_0002, recorded on April 30, 2023. Other machines with high speed differences include M_0007, M_0006, and M_0005. \n",
      "\n",
      "To address these issues, I recommend the following:\n",
      "\n",
      "1. Investigate the cause of these high speed differences. This could be due to machine malfunctions, incorrect settings, or external factors affecting the machines' operation.\n",
      "\n",
      "2. Regularly monitor the machines' speed differences, especially those that have recorded high speed differences in the past. This will help detect any anomalies early and take corrective action before the issue escalates.\n",
      "\n",
      "3. Implement preventive maintenance for the machines. Regular maintenance can help prevent machine malfunctions that could lead to high speed differences.\n",
      "\n",
      "4. If the high speed differences are due to incorrect settings, provide training to the staff responsible for setting the machines' speeds. This will ensure that they set the speeds correctly and avoid such issues in the future.\n",
      "\n",
      "5. Consider upgrading the machines if they are old and prone to malfunctions. Newer machines are likely to be more efficient and less likely to have high speed differences.\n"
     ]
    }
   ],
   "source": [
    "print(response.choices[0].message.content)"
   ]
  },
  {
   "cell_type": "code",
   "execution_count": null,
   "id": "7c1a573e-13ba-466c-bb45-3655e8901c89",
   "metadata": {},
   "outputs": [],
   "source": [
    "def gpt_quizzer(question):\n",
    "    response = client.chat.completions.create(\n",
    "    model='gpt-4',\n",
    "    messages=[\n",
    "        {\n",
    "            \"role\": \"system\",\n",
    "            \"content\": \"Given the following SQL table, your job is to write correct SQL queries given a user's request \\n CREATE TABLE telemetry_extended_v3 (\\n timestamp DateTime,\\n speed_desired Int,\\n ambient_temperature Float,\\n ambient_pressure Float,\\n speed Float,\\n temperature Float,\\n pressure Float,\\n machineid String,\\n speed_difference Float;\"\n",
    "        },\n",
    "        {\n",
    "            \"role\": \"user\",\n",
    "            \"content\": question,\n",
    "        }\n",
    "    ],\n",
    "    temperature=0.1,\n",
    "    max_tokens=1000,\n",
    "    top_p=1,\n",
    "    frequency_penalty=0,\n",
    "    presence_penalty=0\n",
    "    )\n",
    "\n",
    "    output_query = response.choices[0].message.content"
   ]
  }
 ],
 "metadata": {
  "kernelspec": {
   "display_name": "conda_pytorch_p310",
   "language": "python",
   "name": "conda_pytorch_p310"
  },
  "language_info": {
   "codemirror_mode": {
    "name": "ipython",
    "version": 3
   },
   "file_extension": ".py",
   "mimetype": "text/x-python",
   "name": "python",
   "nbconvert_exporter": "python",
   "pygments_lexer": "ipython3",
   "version": "3.10.13"
  }
 },
 "nbformat": 4,
 "nbformat_minor": 5
}
