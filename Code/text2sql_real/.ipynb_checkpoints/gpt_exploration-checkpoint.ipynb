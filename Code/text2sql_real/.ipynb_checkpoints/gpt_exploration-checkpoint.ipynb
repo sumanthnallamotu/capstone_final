{
 "cells": [
  {
   "cell_type": "code",
   "execution_count": 1,
   "id": "68392539-5922-4e5f-8f78-f66f4b957fe8",
   "metadata": {
    "tags": []
   },
   "outputs": [],
   "source": [
    "!pip install openai awswrangler --quiet\n",
    "\n",
    "\n",
    "import pandas as pd\n",
    "import numpy as np\n",
    "import datetime\n",
    "\n",
    "import os\n",
    "import openai\n",
    "\n",
    "import awswrangler as wr"
   ]
  },
  {
   "cell_type": "code",
   "execution_count": 2,
   "id": "f93cddb5-de22-4f9e-980b-672b232fa973",
   "metadata": {
    "tags": []
   },
   "outputs": [],
   "source": [
    "key_file = open('/home/ec2-user/SageMaker/open_key.txt')\n",
    "open_key = key_file.read()\n",
    "\n",
    "os.environ[\"OPENAI_API_KEY\"] = open_key\n",
    "openai.api_key = os.environ['OPENAI_API_KEY']"
   ]
  },
  {
   "cell_type": "code",
   "execution_count": 3,
   "id": "c19c79bb-2ce3-453c-9fa9-2d20c4284bc4",
   "metadata": {
    "tags": []
   },
   "outputs": [],
   "source": [
    "from openai import OpenAI\n",
    "client = OpenAI()"
   ]
  },
  {
   "cell_type": "code",
   "execution_count": 4,
   "id": "0fbb344c-e0f9-47f8-8d40-a5a8c7f86f4b",
   "metadata": {
    "tags": []
   },
   "outputs": [],
   "source": [
    "query_string = \"Write a SQL query that gets all machines with over 600 speed difference. Return timestamp, machine ID, and speed difference. Sort by highest speed difference. Top 20 results\"\n",
    "\n",
    "response = client.chat.completions.create(\n",
    "    model='gpt-4',\n",
    "    messages=[\n",
    "        {\n",
    "            \"role\": \"system\",\n",
    "            \"content\": \"Given the following SQL table, your job is to write queries given a user's request \\n CREATE TABLE sample_extended (\\n timestamp DateTime,\\n speed_desired Int,\\n ambient_temperature Float,\\n ambient_pressure Float,\\n speed Float,\\n temperature Float,\\n pressure Float,\\n machineid String,\\n speed_difference Float;\"\n",
    "        },\n",
    "        {\n",
    "            \"role\": \"user\",\n",
    "            \"content\": query_string,\n",
    "        }\n",
    "    ],\n",
    "    temperature=0.1,\n",
    "    max_tokens=1000,\n",
    "    top_p=1,\n",
    "    frequency_penalty=0,\n",
    "    presence_penalty=0\n",
    ")\n",
    "\n",
    "output_query = response.choices[0].message.content\n",
    "# Completed in 1 second"
   ]
  },
  {
   "cell_type": "code",
   "execution_count": 5,
   "id": "d002f41b-fa1c-4c1d-a858-0ec7dff4905f",
   "metadata": {
    "tags": []
   },
   "outputs": [
    {
     "data": {
      "text/plain": [
       "'SELECT timestamp, machineid, speed_difference\\nFROM sample_extended\\nWHERE speed_difference > 600\\nORDER BY speed_difference DESC\\nLIMIT 20;'"
      ]
     },
     "execution_count": 5,
     "metadata": {},
     "output_type": "execute_result"
    }
   ],
   "source": [
    "output_query"
   ]
  },
  {
   "cell_type": "code",
   "execution_count": 6,
   "id": "0e7ea9a0-524e-4737-a36a-a2f361c47530",
   "metadata": {
    "tags": []
   },
   "outputs": [],
   "source": [
    "df = wr.athena.read_sql_query(\n",
    "    sql=output_query,\n",
    "    database='capstone',\n",
    "    ctas_approach=True)"
   ]
  },
  {
   "cell_type": "code",
   "execution_count": 7,
   "id": "c6b15146-1d38-43fd-a14c-2defe6f9164a",
   "metadata": {
    "tags": []
   },
   "outputs": [
    {
     "data": {
      "text/html": [
       "<div>\n",
       "<style scoped>\n",
       "    .dataframe tbody tr th:only-of-type {\n",
       "        vertical-align: middle;\n",
       "    }\n",
       "\n",
       "    .dataframe tbody tr th {\n",
       "        vertical-align: top;\n",
       "    }\n",
       "\n",
       "    .dataframe thead th {\n",
       "        text-align: right;\n",
       "    }\n",
       "</style>\n",
       "<table border=\"1\" class=\"dataframe\">\n",
       "  <thead>\n",
       "    <tr style=\"text-align: right;\">\n",
       "      <th></th>\n",
       "      <th>timestamp</th>\n",
       "      <th>machineid</th>\n",
       "      <th>speed_difference</th>\n",
       "    </tr>\n",
       "  </thead>\n",
       "  <tbody>\n",
       "    <tr>\n",
       "      <th>0</th>\n",
       "      <td>2017-06-20 00:40:12.000</td>\n",
       "      <td>M_0259</td>\n",
       "      <td>770.75</td>\n",
       "    </tr>\n",
       "    <tr>\n",
       "      <th>1</th>\n",
       "      <td>2017-06-09 14:59:33.000</td>\n",
       "      <td>M_0084</td>\n",
       "      <td>770.31</td>\n",
       "    </tr>\n",
       "    <tr>\n",
       "      <th>2</th>\n",
       "      <td>2017-06-21 08:10:30.000</td>\n",
       "      <td>M_0014</td>\n",
       "      <td>770.12</td>\n",
       "    </tr>\n",
       "    <tr>\n",
       "      <th>3</th>\n",
       "      <td>2017-06-22 03:56:08.000</td>\n",
       "      <td>M_0776</td>\n",
       "      <td>767.65</td>\n",
       "    </tr>\n",
       "    <tr>\n",
       "      <th>4</th>\n",
       "      <td>2017-06-21 08:10:29.000</td>\n",
       "      <td>M_0014</td>\n",
       "      <td>743.92</td>\n",
       "    </tr>\n",
       "    <tr>\n",
       "      <th>5</th>\n",
       "      <td>2017-06-09 14:59:32.000</td>\n",
       "      <td>M_0084</td>\n",
       "      <td>743.20</td>\n",
       "    </tr>\n",
       "    <tr>\n",
       "      <th>6</th>\n",
       "      <td>2017-06-06 16:46:40.000</td>\n",
       "      <td>M_0084</td>\n",
       "      <td>741.44</td>\n",
       "    </tr>\n",
       "    <tr>\n",
       "      <th>7</th>\n",
       "      <td>2017-06-20 00:40:11.000</td>\n",
       "      <td>M_0259</td>\n",
       "      <td>738.67</td>\n",
       "    </tr>\n",
       "    <tr>\n",
       "      <th>8</th>\n",
       "      <td>2017-06-22 03:56:07.000</td>\n",
       "      <td>M_0776</td>\n",
       "      <td>737.93</td>\n",
       "    </tr>\n",
       "    <tr>\n",
       "      <th>9</th>\n",
       "      <td>2017-06-21 08:10:28.000</td>\n",
       "      <td>M_0014</td>\n",
       "      <td>726.27</td>\n",
       "    </tr>\n",
       "    <tr>\n",
       "      <th>10</th>\n",
       "      <td>2017-06-09 14:59:31.000</td>\n",
       "      <td>M_0084</td>\n",
       "      <td>724.57</td>\n",
       "    </tr>\n",
       "    <tr>\n",
       "      <th>11</th>\n",
       "      <td>2017-06-20 00:40:10.000</td>\n",
       "      <td>M_0259</td>\n",
       "      <td>722.59</td>\n",
       "    </tr>\n",
       "    <tr>\n",
       "      <th>12</th>\n",
       "      <td>2017-06-24 05:37:40.000</td>\n",
       "      <td>M_0201</td>\n",
       "      <td>713.51</td>\n",
       "    </tr>\n",
       "    <tr>\n",
       "      <th>13</th>\n",
       "      <td>2017-06-22 03:56:06.000</td>\n",
       "      <td>M_0776</td>\n",
       "      <td>709.32</td>\n",
       "    </tr>\n",
       "    <tr>\n",
       "      <th>14</th>\n",
       "      <td>2017-06-16 05:31:40.000</td>\n",
       "      <td>M_0259</td>\n",
       "      <td>708.73</td>\n",
       "    </tr>\n",
       "    <tr>\n",
       "      <th>15</th>\n",
       "      <td>2017-06-09 14:59:30.000</td>\n",
       "      <td>M_0084</td>\n",
       "      <td>708.65</td>\n",
       "    </tr>\n",
       "    <tr>\n",
       "      <th>16</th>\n",
       "      <td>2017-06-18 23:29:40.000</td>\n",
       "      <td>M_0776</td>\n",
       "      <td>708.34</td>\n",
       "    </tr>\n",
       "    <tr>\n",
       "      <th>17</th>\n",
       "      <td>2017-06-21 08:10:27.000</td>\n",
       "      <td>M_0014</td>\n",
       "      <td>708.17</td>\n",
       "    </tr>\n",
       "    <tr>\n",
       "      <th>18</th>\n",
       "      <td>2017-06-20 00:40:09.000</td>\n",
       "      <td>M_0259</td>\n",
       "      <td>707.73</td>\n",
       "    </tr>\n",
       "    <tr>\n",
       "      <th>19</th>\n",
       "      <td>2017-06-14 01:58:40.000</td>\n",
       "      <td>M_0552</td>\n",
       "      <td>703.59</td>\n",
       "    </tr>\n",
       "  </tbody>\n",
       "</table>\n",
       "</div>"
      ],
      "text/plain": [
       "                  timestamp machineid  speed_difference\n",
       "0   2017-06-20 00:40:12.000    M_0259            770.75\n",
       "1   2017-06-09 14:59:33.000    M_0084            770.31\n",
       "2   2017-06-21 08:10:30.000    M_0014            770.12\n",
       "3   2017-06-22 03:56:08.000    M_0776            767.65\n",
       "4   2017-06-21 08:10:29.000    M_0014            743.92\n",
       "5   2017-06-09 14:59:32.000    M_0084            743.20\n",
       "6   2017-06-06 16:46:40.000    M_0084            741.44\n",
       "7   2017-06-20 00:40:11.000    M_0259            738.67\n",
       "8   2017-06-22 03:56:07.000    M_0776            737.93\n",
       "9   2017-06-21 08:10:28.000    M_0014            726.27\n",
       "10  2017-06-09 14:59:31.000    M_0084            724.57\n",
       "11  2017-06-20 00:40:10.000    M_0259            722.59\n",
       "12  2017-06-24 05:37:40.000    M_0201            713.51\n",
       "13  2017-06-22 03:56:06.000    M_0776            709.32\n",
       "14  2017-06-16 05:31:40.000    M_0259            708.73\n",
       "15  2017-06-09 14:59:30.000    M_0084            708.65\n",
       "16  2017-06-18 23:29:40.000    M_0776            708.34\n",
       "17  2017-06-21 08:10:27.000    M_0014            708.17\n",
       "18  2017-06-20 00:40:09.000    M_0259            707.73\n",
       "19  2017-06-14 01:58:40.000    M_0552            703.59"
      ]
     },
     "execution_count": 7,
     "metadata": {},
     "output_type": "execute_result"
    }
   ],
   "source": [
    "df"
   ]
  },
  {
   "cell_type": "code",
   "execution_count": 8,
   "id": "66ca3f29-7458-46dd-af03-fe2231797d0a",
   "metadata": {
    "tags": []
   },
   "outputs": [],
   "source": [
    "context = \"Here is the context: We are looking at industrial factory machine data. Speed differences of 232 and over are worse as you get higher. You will be provided a string representation of a dataframe with SQL query results. Your job is to summarize thes results and give recommendations for how to address these issues. Here is the corresponding SQL query: \" + output_query "
   ]
  },
  {
   "cell_type": "code",
   "execution_count": 9,
   "id": "d9823be9-6439-4c56-8d8b-a57fa7041325",
   "metadata": {
    "tags": []
   },
   "outputs": [],
   "source": [
    "response = client.chat.completions.create(\n",
    "    model='gpt-4',\n",
    "    messages=[\n",
    "        {\n",
    "            \"role\": \"system\",\n",
    "            \"content\": context\n",
    "        },\n",
    "        {\n",
    "            \"role\": \"user\",\n",
    "            \"content\": \"Please give me a summary of these results\" + str(df)\n",
    "        }\n",
    "    ],\n",
    "    temperature=0.1,\n",
    "    max_tokens=1000,\n",
    "    top_p=1,\n",
    "    frequency_penalty=0,\n",
    "    presence_penalty=0\n",
    ")\n",
    "\n",
    "output_query = response.choices[0].message.content"
   ]
  },
  {
   "cell_type": "code",
   "execution_count": 10,
   "id": "f9d3047e-6b89-4911-9ffc-74d3d8ed9a57",
   "metadata": {
    "tags": []
   },
   "outputs": [
    {
     "name": "stdout",
     "output_type": "stream",
     "text": [
      "The SQL query results show the top 20 instances where the speed difference exceeded 600 in the sample_extended table. The speed differences range from 703.59 to 770.75. The machine with the highest speed difference of 770.75 is M_0259, recorded on 2017-06-20 at 00:40:12.000. \n",
      "\n",
      "Machine M_0084, M_0014, M_0259, and M_0776 appear multiple times in the top 20 list, indicating that these machines have recurring speed difference issues. \n",
      "\n",
      "To address these issues, I recommend the following:\n",
      "\n",
      "1. Investigate the machines M_0084, M_0014, M_0259, and M_0776 for any mechanical issues that could be causing these high speed differences. This could involve checking the machines' components, software, and their operational environment.\n",
      "\n",
      "2. Review the operational procedures and maintenance schedules for these machines. If the machines are not being properly maintained or are being used in ways they were not designed for, it could lead to these high speed differences.\n",
      "\n",
      "3. Consider implementing real-time monitoring of machine speeds to catch these issues as they occur. This could allow for quicker responses and potentially prevent damage or inefficiencies caused by these high speed differences. \n",
      "\n",
      "4. If the machines are old or have been frequently repaired, it might be more cost-effective to replace them. \n",
      "\n",
      "5. Training for operators might be needed if the speed differences are due to operator error.\n"
     ]
    }
   ],
   "source": [
    "print(response.choices[0].message.content)"
   ]
  },
  {
   "cell_type": "code",
   "execution_count": null,
   "id": "7c1a573e-13ba-466c-bb45-3655e8901c89",
   "metadata": {},
   "outputs": [],
   "source": []
  }
 ],
 "metadata": {
  "kernelspec": {
   "display_name": "conda_pytorch_p310",
   "language": "python",
   "name": "conda_pytorch_p310"
  },
  "language_info": {
   "codemirror_mode": {
    "name": "ipython",
    "version": 3
   },
   "file_extension": ".py",
   "mimetype": "text/x-python",
   "name": "python",
   "nbconvert_exporter": "python",
   "pygments_lexer": "ipython3",
   "version": "3.10.13"
  }
 },
 "nbformat": 4,
 "nbformat_minor": 5
}
